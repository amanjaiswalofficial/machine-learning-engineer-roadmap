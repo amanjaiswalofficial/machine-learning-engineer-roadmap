{
 "cells": [
  {
   "cell_type": "code",
   "execution_count": 5,
   "metadata": {},
   "outputs": [
    {
     "name": "stdout",
     "output_type": "stream",
     "text": [
      "{'this': 13, 'is': 7, 'amazing': 2, 'ml': 9, 'the': 12, 'best': 3, 'yes': 15, 'it': 8, 'am': 1, 'not': 10, 'sure': 11, 'about': 0, 'how': 6, 'going': 5, 'to': 14, 'end': 4}\n",
      "[[0 0 1 0 0 0 0 1 0 0 0 0 0 1 0 0]\n",
      " [0 0 0 1 0 0 0 2 1 1 0 0 1 0 0 1]\n",
      " [1 1 0 0 1 1 1 1 0 0 1 1 0 1 1 0]]\n",
      "[[0.   0.   0.72 0.   0.   0.   0.   0.43 0.   0.   0.   0.   0.   0.55\n",
      "  0.   0.  ]\n",
      " [0.   0.   0.   0.4  0.   0.   0.   0.47 0.4  0.4  0.   0.   0.4  0.\n",
      "  0.   0.4 ]\n",
      " [0.33 0.33 0.   0.   0.33 0.33 0.33 0.2  0.   0.   0.33 0.33 0.   0.25\n",
      "  0.33 0.  ]]\n",
      "[('', 123920), ('I', 32880), ('to', 28810), ('the', 28087), ('a', 21321), ('you', 21180), ('i', 15996), ('and', 14565), ('it', 12818), ('my', 12385), ('for', 12149), ('in', 11199), ('is', 11185), ('of', 10326), ('that', 9181), ('on', 9020), ('have', 8991), ('me', 8255), ('so', 7612), ('but', 7220)]\n"
     ]
    },
    {
     "data": {
      "text/html": [
       "<div class=\"bk-root\">\n",
       "        <a href=\"https://bokeh.org\" target=\"_blank\" class=\"bk-logo bk-logo-small bk-logo-notebook\"></a>\n",
       "        <span id=\"1091\">Loading BokehJS ...</span>\n",
       "    </div>\n"
      ]
     },
     "metadata": {},
     "output_type": "display_data"
    },
    {
     "data": {
      "application/javascript": "(function(root) {\n  function now() {\n    return new Date();\n  }\n\n  const force = true;\n\n  if (typeof root._bokeh_onload_callbacks === \"undefined\" || force === true) {\n    root._bokeh_onload_callbacks = [];\n    root._bokeh_is_loading = undefined;\n  }\n\nconst JS_MIME_TYPE = 'application/javascript';\n  const HTML_MIME_TYPE = 'text/html';\n  const EXEC_MIME_TYPE = 'application/vnd.bokehjs_exec.v0+json';\n  const CLASS_NAME = 'output_bokeh rendered_html';\n\n  /**\n   * Render data to the DOM node\n   */\n  function render(props, node) {\n    const script = document.createElement(\"script\");\n    node.appendChild(script);\n  }\n\n  /**\n   * Handle when an output is cleared or removed\n   */\n  function handleClearOutput(event, handle) {\n    const cell = handle.cell;\n\n    const id = cell.output_area._bokeh_element_id;\n    const server_id = cell.output_area._bokeh_server_id;\n    // Clean up Bokeh references\n    if (id != null && id in Bokeh.index) {\n      Bokeh.index[id].model.document.clear();\n      delete Bokeh.index[id];\n    }\n\n    if (server_id !== undefined) {\n      // Clean up Bokeh references\n      const cmd_clean = \"from bokeh.io.state import curstate; print(curstate().uuid_to_server['\" + server_id + \"'].get_sessions()[0].document.roots[0]._id)\";\n      cell.notebook.kernel.execute(cmd_clean, {\n        iopub: {\n          output: function(msg) {\n            const id = msg.content.text.trim();\n            if (id in Bokeh.index) {\n              Bokeh.index[id].model.document.clear();\n              delete Bokeh.index[id];\n            }\n          }\n        }\n      });\n      // Destroy server and session\n      const cmd_destroy = \"import bokeh.io.notebook as ion; ion.destroy_server('\" + server_id + \"')\";\n      cell.notebook.kernel.execute(cmd_destroy);\n    }\n  }\n\n  /**\n   * Handle when a new output is added\n   */\n  function handleAddOutput(event, handle) {\n    const output_area = handle.output_area;\n    const output = handle.output;\n\n    // limit handleAddOutput to display_data with EXEC_MIME_TYPE content only\n    if ((output.output_type != \"display_data\") || (!Object.prototype.hasOwnProperty.call(output.data, EXEC_MIME_TYPE))) {\n      return\n    }\n\n    const toinsert = output_area.element.find(\".\" + CLASS_NAME.split(' ')[0]);\n\n    if (output.metadata[EXEC_MIME_TYPE][\"id\"] !== undefined) {\n      toinsert[toinsert.length - 1].firstChild.textContent = output.data[JS_MIME_TYPE];\n      // store reference to embed id on output_area\n      output_area._bokeh_element_id = output.metadata[EXEC_MIME_TYPE][\"id\"];\n    }\n    if (output.metadata[EXEC_MIME_TYPE][\"server_id\"] !== undefined) {\n      const bk_div = document.createElement(\"div\");\n      bk_div.innerHTML = output.data[HTML_MIME_TYPE];\n      const script_attrs = bk_div.children[0].attributes;\n      for (let i = 0; i < script_attrs.length; i++) {\n        toinsert[toinsert.length - 1].firstChild.setAttribute(script_attrs[i].name, script_attrs[i].value);\n        toinsert[toinsert.length - 1].firstChild.textContent = bk_div.children[0].textContent\n      }\n      // store reference to server id on output_area\n      output_area._bokeh_server_id = output.metadata[EXEC_MIME_TYPE][\"server_id\"];\n    }\n  }\n\n  function register_renderer(events, OutputArea) {\n\n    function append_mime(data, metadata, element) {\n      // create a DOM node to render to\n      const toinsert = this.create_output_subarea(\n        metadata,\n        CLASS_NAME,\n        EXEC_MIME_TYPE\n      );\n      this.keyboard_manager.register_events(toinsert);\n      // Render to node\n      const props = {data: data, metadata: metadata[EXEC_MIME_TYPE]};\n      render(props, toinsert[toinsert.length - 1]);\n      element.append(toinsert);\n      return toinsert\n    }\n\n    /* Handle when an output is cleared or removed */\n    events.on('clear_output.CodeCell', handleClearOutput);\n    events.on('delete.Cell', handleClearOutput);\n\n    /* Handle when a new output is added */\n    events.on('output_added.OutputArea', handleAddOutput);\n\n    /**\n     * Register the mime type and append_mime function with output_area\n     */\n    OutputArea.prototype.register_mime_type(EXEC_MIME_TYPE, append_mime, {\n      /* Is output safe? */\n      safe: true,\n      /* Index of renderer in `output_area.display_order` */\n      index: 0\n    });\n  }\n\n  // register the mime type if in Jupyter Notebook environment and previously unregistered\n  if (root.Jupyter !== undefined) {\n    const events = require('base/js/events');\n    const OutputArea = require('notebook/js/outputarea').OutputArea;\n\n    if (OutputArea.prototype.mime_types().indexOf(EXEC_MIME_TYPE) == -1) {\n      register_renderer(events, OutputArea);\n    }\n  }\n  if (typeof (root._bokeh_timeout) === \"undefined\" || force === true) {\n    root._bokeh_timeout = Date.now() + 5000;\n    root._bokeh_failed_load = false;\n  }\n\n  const NB_LOAD_WARNING = {'data': {'text/html':\n     \"<div style='background-color: #fdd'>\\n\"+\n     \"<p>\\n\"+\n     \"BokehJS does not appear to have successfully loaded. If loading BokehJS from CDN, this \\n\"+\n     \"may be due to a slow or bad network connection. Possible fixes:\\n\"+\n     \"</p>\\n\"+\n     \"<ul>\\n\"+\n     \"<li>re-rerun `output_notebook()` to attempt to load from CDN again, or</li>\\n\"+\n     \"<li>use INLINE resources instead, as so:</li>\\n\"+\n     \"</ul>\\n\"+\n     \"<code>\\n\"+\n     \"from bokeh.resources import INLINE\\n\"+\n     \"output_notebook(resources=INLINE)\\n\"+\n     \"</code>\\n\"+\n     \"</div>\"}};\n\n  function display_loaded() {\n    const el = document.getElementById(\"1091\");\n    if (el != null) {\n      el.textContent = \"BokehJS is loading...\";\n    }\n    if (root.Bokeh !== undefined) {\n      if (el != null) {\n        el.textContent = \"BokehJS \" + root.Bokeh.version + \" successfully loaded.\";\n      }\n    } else if (Date.now() < root._bokeh_timeout) {\n      setTimeout(display_loaded, 100)\n    }\n  }\n\n  function run_callbacks() {\n    try {\n      root._bokeh_onload_callbacks.forEach(function(callback) {\n        if (callback != null)\n          callback();\n      });\n    } finally {\n      delete root._bokeh_onload_callbacks\n    }\n    console.debug(\"Bokeh: all callbacks have finished\");\n  }\n\n  function load_libs(css_urls, js_urls, callback) {\n    if (css_urls == null) css_urls = [];\n    if (js_urls == null) js_urls = [];\n\n    root._bokeh_onload_callbacks.push(callback);\n    if (root._bokeh_is_loading > 0) {\n      console.debug(\"Bokeh: BokehJS is being loaded, scheduling callback at\", now());\n      return null;\n    }\n    if (js_urls == null || js_urls.length === 0) {\n      run_callbacks();\n      return null;\n    }\n    console.debug(\"Bokeh: BokehJS not loaded, scheduling load and callback at\", now());\n    root._bokeh_is_loading = css_urls.length + js_urls.length;\n\n    function on_load() {\n      root._bokeh_is_loading--;\n      if (root._bokeh_is_loading === 0) {\n        console.debug(\"Bokeh: all BokehJS libraries/stylesheets loaded\");\n        run_callbacks()\n      }\n    }\n\n    function on_error(url) {\n      console.error(\"failed to load \" + url);\n    }\n\n    for (let i = 0; i < css_urls.length; i++) {\n      const url = css_urls[i];\n      const element = document.createElement(\"link\");\n      element.onload = on_load;\n      element.onerror = on_error.bind(null, url);\n      element.rel = \"stylesheet\";\n      element.type = \"text/css\";\n      element.href = url;\n      console.debug(\"Bokeh: injecting link tag for BokehJS stylesheet: \", url);\n      document.body.appendChild(element);\n    }\n\n    for (let i = 0; i < js_urls.length; i++) {\n      const url = js_urls[i];\n      const element = document.createElement('script');\n      element.onload = on_load;\n      element.onerror = on_error.bind(null, url);\n      element.async = false;\n      element.src = url;\n      console.debug(\"Bokeh: injecting script tag for BokehJS library: \", url);\n      document.head.appendChild(element);\n    }\n  };\n\n  function inject_raw_css(css) {\n    const element = document.createElement(\"style\");\n    element.appendChild(document.createTextNode(css));\n    document.body.appendChild(element);\n  }\n\n  const js_urls = [\"https://cdn.bokeh.org/bokeh/release/bokeh-2.4.3.min.js\", \"https://cdn.bokeh.org/bokeh/release/bokeh-gl-2.4.3.min.js\", \"https://cdn.bokeh.org/bokeh/release/bokeh-widgets-2.4.3.min.js\", \"https://cdn.bokeh.org/bokeh/release/bokeh-tables-2.4.3.min.js\", \"https://cdn.bokeh.org/bokeh/release/bokeh-mathjax-2.4.3.min.js\"];\n  const css_urls = [];\n\n  const inline_js = [    function(Bokeh) {\n      Bokeh.set_log_level(\"info\");\n    },\nfunction(Bokeh) {\n    }\n  ];\n\n  function run_inline_js() {\n    if (root.Bokeh !== undefined || force === true) {\n          for (let i = 0; i < inline_js.length; i++) {\n      inline_js[i].call(root, root.Bokeh);\n    }\nif (force === true) {\n        display_loaded();\n      }} else if (Date.now() < root._bokeh_timeout) {\n      setTimeout(run_inline_js, 100);\n    } else if (!root._bokeh_failed_load) {\n      console.log(\"Bokeh: BokehJS failed to load within specified timeout.\");\n      root._bokeh_failed_load = true;\n    } else if (force !== true) {\n      const cell = $(document.getElementById(\"1091\")).parents('.cell').data().cell;\n      cell.output_area.append_execute_result(NB_LOAD_WARNING)\n    }\n  }\n\n  if (root._bokeh_is_loading === 0) {\n    console.debug(\"Bokeh: BokehJS loaded, going straight to plotting\");\n    run_inline_js();\n  } else {\n    load_libs(css_urls, js_urls, function() {\n      console.debug(\"Bokeh: BokehJS plotting callback run at\", now());\n      run_inline_js();\n    });\n  }\n}(window));",
      "application/vnd.bokehjs_load.v0+json": ""
     },
     "metadata": {},
     "output_type": "display_data"
    },
    {
     "data": {
      "text/html": [
       "\n",
       "  <div class=\"bk-root\" id=\"49a5d08e-929c-489d-a426-379f7d4dfb64\" data-root-id=\"1092\"></div>\n"
      ]
     },
     "metadata": {},
     "output_type": "display_data"
    },
    {
     "data": {
      "application/javascript": "(function(root) {\n  function embed_document(root) {\n  const docs_json = {\"b22018fa-a461-4bac-8c88-255abbdb5aa8\":{\"defs\":[],\"roots\":{\"references\":[{\"attributes\":{\"below\":[{\"id\":\"1103\"}],\"center\":[{\"id\":\"1106\"},{\"id\":\"1110\"}],\"left\":[{\"id\":\"1107\"}],\"renderers\":[{\"id\":\"1124\"}],\"title\":{\"id\":\"1093\"},\"toolbar\":{\"id\":\"1115\"},\"toolbar_location\":\"above\",\"x_range\":{\"id\":\"1095\"},\"x_scale\":{\"id\":\"1099\"},\"y_range\":{\"id\":\"1097\"},\"y_scale\":{\"id\":\"1101\"}},\"id\":\"1092\",\"subtype\":\"Figure\",\"type\":\"Plot\"},{\"attributes\":{\"axis\":{\"id\":\"1107\"},\"coordinates\":null,\"dimension\":1,\"group\":null,\"ticker\":null},\"id\":\"1110\",\"type\":\"Grid\"},{\"attributes\":{\"coordinates\":null,\"formatter\":{\"id\":\"1137\"},\"group\":null,\"major_label_policy\":{\"id\":\"1138\"},\"ticker\":{\"id\":\"1108\"}},\"id\":\"1107\",\"type\":\"LinearAxis\"},{\"attributes\":{},\"id\":\"1113\",\"type\":\"ResetTool\"},{\"attributes\":{},\"id\":\"1138\",\"type\":\"AllLabels\"},{\"attributes\":{},\"id\":\"1111\",\"type\":\"PanTool\"},{\"attributes\":{},\"id\":\"1101\",\"type\":\"LinearScale\"},{\"attributes\":{\"coordinates\":null,\"group\":null,\"text\":\"Word distribution accross all twits\"},\"id\":\"1093\",\"type\":\"Title\"},{\"attributes\":{\"coordinates\":null,\"formatter\":{\"id\":\"1140\"},\"group\":null,\"major_label_policy\":{\"id\":\"1141\"},\"ticker\":{\"id\":\"1104\"}},\"id\":\"1103\",\"type\":\"LinearAxis\"},{\"attributes\":{},\"id\":\"1108\",\"type\":\"BasicTicker\"},{\"attributes\":{},\"id\":\"1137\",\"type\":\"BasicTickFormatter\"},{\"attributes\":{\"bottom\":{\"value\":0},\"fill_color\":{\"value\":\"#1f77b4\"},\"left\":{\"field\":\"left\"},\"line_color\":{\"value\":\"#555555\"},\"right\":{\"field\":\"right\"},\"top\":{\"field\":\"top\"}},\"id\":\"1121\",\"type\":\"Quad\"},{\"attributes\":{},\"id\":\"1112\",\"type\":\"WheelZoomTool\"},{\"attributes\":{},\"id\":\"1095\",\"type\":\"DataRange1d\"},{\"attributes\":{\"bottom\":{\"value\":0},\"fill_alpha\":{\"value\":0.2},\"fill_color\":{\"value\":\"#1f77b4\"},\"hatch_alpha\":{\"value\":0.2},\"left\":{\"field\":\"left\"},\"line_alpha\":{\"value\":0.2},\"line_color\":{\"value\":\"#555555\"},\"right\":{\"field\":\"right\"},\"top\":{\"field\":\"top\"}},\"id\":\"1123\",\"type\":\"Quad\"},{\"attributes\":{\"source\":{\"id\":\"1120\"}},\"id\":\"1125\",\"type\":\"CDSView\"},{\"attributes\":{},\"id\":\"1140\",\"type\":\"BasicTickFormatter\"},{\"attributes\":{},\"id\":\"1104\",\"type\":\"BasicTicker\"},{\"attributes\":{},\"id\":\"1099\",\"type\":\"LinearScale\"},{\"attributes\":{\"axis\":{\"id\":\"1103\"},\"coordinates\":null,\"group\":null,\"ticker\":null},\"id\":\"1106\",\"type\":\"Grid\"},{\"attributes\":{},\"id\":\"1143\",\"type\":\"Selection\"},{\"attributes\":{},\"id\":\"1141\",\"type\":\"AllLabels\"},{\"attributes\":{},\"id\":\"1142\",\"type\":\"UnionRenderers\"},{\"attributes\":{\"bottom\":{\"value\":0},\"fill_alpha\":{\"value\":0.1},\"fill_color\":{\"value\":\"#1f77b4\"},\"hatch_alpha\":{\"value\":0.1},\"left\":{\"field\":\"left\"},\"line_alpha\":{\"value\":0.1},\"line_color\":{\"value\":\"#555555\"},\"right\":{\"field\":\"right\"},\"top\":{\"field\":\"top\"}},\"id\":\"1122\",\"type\":\"Quad\"},{\"attributes\":{\"coordinates\":null,\"data_source\":{\"id\":\"1120\"},\"glyph\":{\"id\":\"1121\"},\"group\":null,\"hover_glyph\":null,\"muted_glyph\":{\"id\":\"1123\"},\"nonselection_glyph\":{\"id\":\"1122\"},\"view\":{\"id\":\"1125\"}},\"id\":\"1124\",\"type\":\"GlyphRenderer\"},{\"attributes\":{\"data\":{\"left\":{\"__ndarray__\":\"AAAAAAAAAABRv9LWhwSYP1G/0taHBKg/fQ8e4WUDsj9Rv9LWhwS4PyVvh8ypBb4/fQ8e4WUDwj9nZ/jb9gPFP1G/0taHBMg/Oxet0RgFyz8lb4fMqQXOP4jjsGMdg9A/fQ8e4WUD0j9yO4teroPTP2dn+Nv2A9U/XJNlWT+E1j9Rv9LWhwTYP0brP1TQhNk/Oxet0RgF2z8wQxpPYYXcPyVvh8ypBd4/Gpv0SfKF3z+I47BjHYPgP4J5Z6JBQ+E/fQ8e4WUD4j93pdQfisPiP3I7i16ug+M/bNFBndJD5D9nZ/jb9gPlP2H9rhobxOU/XJNlWT+E5j9WKRyYY0TnP1G/0taHBOg/TFWJFazE6D9G6z9U0ITpP0GB9pL0ROo/Oxet0RgF6z82rWMQPcXrPzBDGk9hhew/K9nQjYVF7T8lb4fMqQXuPyAFPgvOxe4/Gpv0SfKF7z+KmFVECyPwP4jjsGMdg/A/hS4Mgy/j8D+CeWeiQUPxP3/EwsFTo/E/fQ8e4WUD8j96WnkAeGPyP3el1B+Kw/I/dfAvP5wj8z9yO4teroPzP2+G5n3A4/M/bNFBndJD9D9qHJ285KP0P2dn+Nv2A/U/ZLJT+whk9T9h/a4aG8T1P19ICjotJPY/XJNlWT+E9j9Z3sB4UeT2P1YpHJhjRPc/VHR3t3Wk9z9Rv9LWhwT4P04KLvaZZPg/TFWJFazE+D9JoOQ0viT5P0brP1TQhPk/Qzabc+Lk+T9BgfaS9ET6Pz7MUbIGpfo/Oxet0RgF+z84YgjxKmX7PzatYxA9xfs/M/i+L08l/D8wQxpPYYX8Py2OdW5z5fw/K9nQjYVF/T8oJCytl6X9PyVvh8ypBf4/I7ri67tl/j8gBT4LzsX+Px1QmSrgJf8/Gpv0SfKF/z8Y5k9pBOb/P4qYVUQLIwBACT4DVBRTAECI47BjHYMAQAaJXnMmswBAhS4Mgy/jAEAE1LmSOBMBQIJ5Z6JBQwFAAR8VskpzAUB/xMLBU6MBQP5pcNFc0wFAfQ8e4WUDAkD7tMvwbjMCQHpaeQB4YwJA+f8mEIGTAkB3pdQfisMCQPZKgi+T8wJAdfAvP5wjA0Dzld1OpVMDQHI7i16ugwNA8OA4brezA0BvhuZ9wOMDQO4rlI3JEwRAbNFBndJDBEDrdu+s23MEQGocnbzkowRA6MFKzO3TBEBnZ/jb9gMFQOYMpuv/MwVAZLJT+whkBUDjVwELEpQFQGH9rhobxAVA4KJcKiT0BUBfSAo6LSQGQN3tt0k2VAZAXJNlWT+EBkDbOBNpSLQGQFnewHhR5AZA2INuiFoUB0BWKRyYY0QHQNXOyadsdAdAVHR3t3WkB0DSGSXHftQHQFG/0taHBAhA0GSA5pA0CEBOCi72mWQIQM2v2wWjlAhATFWJFazECEDK+jYltfQIQEmg5DS+JAlAx0WSRMdUCUBG6z9U0IQJQMWQ7WPZtAlAQzabc+LkCUDC20iD6xQKQEGB9pL0RApAvyakov10CkA+zFGyBqUKQLxx/8EP1QpAOxet0RgFC0C6vFrhITULQDhiCPEqZQtAtwe2ADSVC0A2rWMQPcULQLRSESBG9QtAM/i+L08lDECynWw/WFUMQDBDGk9hhQxAr+jHXmq1DEAtjnVuc+UMQKwzI358FQ1AK9nQjYVFDUCpfn6djnUNQCgkLK2XpQ1Ap8nZvKDVDUAlb4fMqQUOQKQUNdyyNQ5AI7ri67tlDkChX5D7xJUOQCAFPgvOxQ5AnqrrGtf1DkAdUJkq4CUPQJz1RjrpVQ9AGpv0SfKFD0CZQKJZ+7UPQBjmT2kE5g9Ay8V+vAYLEECKmFVECyMQQEprLMwPOxBACT4DVBRTEEDIENrbGGsQQIjjsGMdgxBAR7aH6yGbEEAGiV5zJrMQQMZbNfsqyxBAhS4Mgy/jEEBEAeMKNPsQQATUuZI4ExFAw6aQGj0rEUCCeWeiQUMRQEJMPipGWxFAAR8VskpzEUDA8es5T4sRQH/EwsFToxFAP5eZSVi7EUD+aXDRXNMRQL08R1lh6xFAfQ8e4WUDEkA84vRoahsSQPu0y/BuMxJAu4eieHNLEkB6WnkAeGMSQDktUIh8exJA+f8mEIGTEkC40v2XhasSQHel1B+KwxJAN3irp47bEkD2SoIvk/MSQLUdWbeXCxNAdfAvP5wjE0A0wwbHoDsTQPOV3U6lUxNAsmi01qlrE0ByO4teroMTQDEOYuaymxNA8OA4brezE0Cwsw/2u8sTQG+G5n3A4xNALlm9BcX7E0DuK5SNyRMUQK3+ahXOKxRAbNFBndJDFEAspBgl11sUQOt276zbcxRAqknGNOCLFEBqHJ285KMUQCnvc0TpuxRA6MFKzO3TFEColCFU8usUQGdn+Nv2AxVAJjrPY/sbFUDmDKbr/zMVQKXffHMETBVAZLJT+whkFUAjhSqDDXwVQONXAQsSlBVAoirYkhasFUBh/a4aG8QVQCHQhaIf3BVA4KJcKiT0FUCfdTOyKAwWQF9ICjotJBZAHhvhwTE8FkDd7bdJNlQWQJ3AjtE6bBZAXJNlWT+EFkAbZjzhQ5wWQNs4E2lItBZAmgvq8EzMFkBZ3sB4UeQWQBmxlwBW/BZA2INuiFoUF0CXVkUQXywXQFYpHJhjRBdAFvzyH2hcF0DVzsmnbHQXQJShoC9xjBdAVHR3t3WkF0ATR04/erwXQNIZJcd+1BdAkuz7ToPsF0BRv9LWhwQYQBCSqV6MHBhA0GSA5pA0GECPN1dulUwYQE4KLvaZZBhADt0Efp58GEDNr9sFo5QYQIyCso2nrBhATFWJFazEGEALKGCdsNwYQMr6NiW19BhAic0NrbkMGUBJoOQ0viQZQAhzu7zCPBlAx0WSRMdUGUCHGGnMy2wZQEbrP1TQhBlABb4W3NScGUDFkO1j2bQZQIRjxOvdzBlAQzabc+LkGUADCXL75vwZQMLbSIPrFBpAga4fC/AsGkBBgfaS9EQaQABUzRr5XBpAvyakov10GkB/+XoqAo0aQD7MUbIGpRpA/Z4oOgu9GkC8cf/BD9UaQHxE1kkU7RpAOxet0RgFG0D66YNZHR0bQLq8WuEhNRtAeY8xaSZNG0A4YgjxKmUbQPg033gvfRtAtwe2ADSVG0B22oyIOK0bQDatYxA9xRtA9X86mEHdG0C0UhEgRvUbQHQl6KdKDRxAM/i+L08lHEDyypW3Uz0cQLKdbD9YVRxAcXBDx1xtHEAwQxpPYYUcQPAV8dZlnRxAr+jHXmq1HEBuu57mbs0cQC2OdW5z5RxA7WBM9nf9HECsMyN+fBUdQGsG+gWBLR1AK9nQjYVFHUDqq6cVil0dQKl+fp2OdR1AaVFVJZONHUAoJCytl6UdQOf2AjWcvR1Ap8nZvKDVHUBmnLBEpe0dQCVvh8ypBR5A5UFeVK4dHkCkFDXcsjUeQGPnC2S3TR5AI7ri67tlHkDijLlzwH0eQKFfkPvElR5AYDJng8mtHkAgBT4LzsUeQN/XFJPS3R5AnqrrGtf1HkBefcKi2w0fQB1QmSrgJR9A3CJwsuQ9H0Cc9UY66VUfQFvIHcLtbR9AGpv0SfKFH0DabcvR9p0fQJlAoln7tR9AWBN54f/NH0AY5k9pBOYfQNe4JvEI/h9Ay8V+vAYLIEArL2oACRcgQIqYVUQLIyBA6gFBiA0vIEBKayzMDzsgQKnUFxASRyBACT4DVBRTIEBpp+6XFl8gQMgQ2tsYayBAKHrFHxt3IECI47BjHYMgQOdMnKcfjyBAR7aH6yGbIECnH3MvJKcgQAaJXnMmsyBAZvJJtyi/IEDGWzX7KssgQCXFID8t1yBAhS4Mgy/jIEDll/fGMe8gQEQB4wo0+yBApGrOTjYHIUAE1LmSOBMhQGM9pdY6HyFAw6aQGj0rIUAjEHxePzchQIJ5Z6JBQyFA4uJS5kNPIUBCTD4qRlshQKG1KW5IZyFAAR8VskpzIUBhiAD2TH8hQMDx6zlPiyFAIFvXfVGXIUB/xMLBU6MhQN8trgVWryFAP5eZSVi7IUCeAIWNWschQP5pcNFc0yFAXtNbFV/fIUC9PEdZYeshQB2mMp1j9yFAfQ8e4WUDIkDceAklaA8iQDzi9GhqGyJAnEvgrGwnIkD7tMvwbjMiQFsetzRxPyJAu4eieHNLIkAa8Y28dVciQHpaeQB4YyJA2sNkRHpvIkA5LVCIfHsiQJmWO8x+hyJA+f8mEIGTIkBYaRJUg58iQLjS/ZeFqyJAGDzp24e3IkB3pdQfisMiQNcOwGOMzyJAN3irp47bIkCW4ZbrkOciQPZKgi+T8yJAVrRtc5X/IkC1HVm3lwsjQBWHRPuZFyNAdfAvP5wjI0DUWRuDni8jQDTDBsegOyNAlCzyCqNHI0Dzld1OpVMjQFP/yJKnXyNAsmi01qlrI0AS0p8arHcjQHI7i16ugyNA0aR2orCPI0AxDmLmspsjQJF3TSq1pyNA8OA4brezI0BQSiSyub8jQLCzD/a7yyNADx37Ob7XI0BvhuZ9wOMjQM/v0cHC7yNALlm9BcX7I0COwqhJxwckQO4rlI3JEyRATZV/0csfJECt/moVziskQA1oVlnQNyRAbNFBndJDJEDMOi3h1E8kQCykGCXXWyRAiw0EadlnJEDrdu+s23MkQEvg2vDdfyRAqknGNOCLJEAKs7F44pckQGocnbzkoyRAyYWIAOevJEAp73NE6bskQIlYX4jrxyRA6MFKzO3TJEBIKzYQ8N8kQKiUIVTy6yRAB/4MmPT3JEBnZ/jb9gMlQMfQ4x/5DyVAJjrPY/sbJUCGo7qn/SclQOYMpuv/MyVARXaRLwJAJUCl33xzBEwlQARJaLcGWCVAZLJT+whkJUDEGz8/C3AlQCOFKoMNfCVAg+4Vxw+IJUDjVwELEpQlQELB7E4UoCVAoirYkhasJUAClMPWGLglQGH9rhobxCVAwWaaXh3QJUAh0IWiH9wlQIA5ceYh6CVA4KJcKiT0JUBADEhuJgAmQJ91M7IoDCZA/94e9ioYJkBfSAo6LSQmQL6x9X0vMCZAHhvhwTE8JkB+hMwFNEgmQN3tt0k2VCZAPVejjThgJkCdwI7ROmwmQPwpehU9eCZAXJNlWT+EJkC8/FCdQZAmQBtmPOFDnCZAe88nJUaoJkDbOBNpSLQmQDqi/qxKwCZAmgvq8EzMJkD6dNU0T9gmQFnewHhR5CZAuUesvFPwJkAZsZcAVvwmQHgag0RYCCdA2INuiFoUJ0A37VnMXCAnQJdWRRBfLCdA978wVGE4J0BWKRyYY0QnQLaSB9xlUCdAFvzyH2hcJ0B1Zd5jamgnQA==\",\"dtype\":\"float64\",\"order\":\"little\",\"shape\":[500]},\"right\":{\"__ndarray__\":\"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\",\"dtype\":\"float64\",\"order\":\"little\",\"shape\":[500]},\"top\":{\"__ndarray__\":\"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\",\"dtype\":\"float64\",\"order\":\"little\",\"shape\":[500]}},\"selected\":{\"id\":\"1143\"},\"selection_policy\":{\"id\":\"1142\"}},\"id\":\"1120\",\"type\":\"ColumnDataSource\"},{\"attributes\":{},\"id\":\"1114\",\"type\":\"SaveTool\"},{\"attributes\":{\"tools\":[{\"id\":\"1111\"},{\"id\":\"1112\"},{\"id\":\"1113\"},{\"id\":\"1114\"}]},\"id\":\"1115\",\"type\":\"Toolbar\"},{\"attributes\":{},\"id\":\"1097\",\"type\":\"DataRange1d\"}],\"root_ids\":[\"1092\"]},\"title\":\"Bokeh Application\",\"version\":\"2.4.3\"}};\n  const render_items = [{\"docid\":\"b22018fa-a461-4bac-8c88-255abbdb5aa8\",\"root_ids\":[\"1092\"],\"roots\":{\"1092\":\"49a5d08e-929c-489d-a426-379f7d4dfb64\"}}];\n  root.Bokeh.embed.embed_items_notebook(docs_json, render_items);\n  }\n  if (root.Bokeh !== undefined) {\n    embed_document(root);\n  } else {\n    let attempts = 0;\n    const timer = setInterval(function(root) {\n      if (root.Bokeh !== undefined) {\n        clearInterval(timer);\n        embed_document(root);\n      } else {\n        attempts++;\n        if (attempts > 100) {\n          clearInterval(timer);\n          console.log(\"Bokeh: ERROR: Unable to run BokehJS code because BokehJS library is missing\");\n        }\n      }\n    }, 10, root)\n  }\n})(window);",
      "application/vnd.bokehjs_exec.v0+json": ""
     },
     "metadata": {
      "application/vnd.bokehjs_exec.v0+json": {
       "id": "1092"
      }
     },
     "output_type": "display_data"
    },
    {
     "name": "stdout",
     "output_type": "stream",
     "text": [
      "[('', 123920), ('I', 32880), (\"I'm\", 6416), ('like', 5086), ('-', 4922), ('get', 4864), ('u', 4194), ('good', 3953), ('love', 3494), ('know', 3472), ('go', 2990), ('see', 2868), ('one', 2787), ('got', 2774), ('think', 2613), ('&amp;', 2556), ('lol', 2419), ('going', 2396), ('really', 2287), ('im', 2200)]\n",
      "this tweet man is nice :)\n",
      "['Hi', 'there,', 'I', 'am', 'loving', 'this,', 'like', 'with', 'a', 'lot', 'of', 'love']\n",
      "['hi', 'there,', 'i', 'am', 'love', 'this,', 'like', 'with', 'a', 'lot', 'of', 'love']\n",
      "Fitting 5 folds for each of 96 candidates, totalling 480 fits\n"
     ]
    },
    {
     "data": {
      "text/html": [
       "<style>#sk-container-id-2 {color: black;background-color: white;}#sk-container-id-2 pre{padding: 0;}#sk-container-id-2 div.sk-toggleable {background-color: white;}#sk-container-id-2 label.sk-toggleable__label {cursor: pointer;display: block;width: 100%;margin-bottom: 0;padding: 0.3em;box-sizing: border-box;text-align: center;}#sk-container-id-2 label.sk-toggleable__label-arrow:before {content: \"▸\";float: left;margin-right: 0.25em;color: #696969;}#sk-container-id-2 label.sk-toggleable__label-arrow:hover:before {color: black;}#sk-container-id-2 div.sk-estimator:hover label.sk-toggleable__label-arrow:before {color: black;}#sk-container-id-2 div.sk-toggleable__content {max-height: 0;max-width: 0;overflow: hidden;text-align: left;background-color: #f0f8ff;}#sk-container-id-2 div.sk-toggleable__content pre {margin: 0.2em;color: black;border-radius: 0.25em;background-color: #f0f8ff;}#sk-container-id-2 input.sk-toggleable__control:checked~div.sk-toggleable__content {max-height: 200px;max-width: 100%;overflow: auto;}#sk-container-id-2 input.sk-toggleable__control:checked~label.sk-toggleable__label-arrow:before {content: \"▾\";}#sk-container-id-2 div.sk-estimator input.sk-toggleable__control:checked~label.sk-toggleable__label {background-color: #d4ebff;}#sk-container-id-2 div.sk-label input.sk-toggleable__control:checked~label.sk-toggleable__label {background-color: #d4ebff;}#sk-container-id-2 input.sk-hidden--visually {border: 0;clip: rect(1px 1px 1px 1px);clip: rect(1px, 1px, 1px, 1px);height: 1px;margin: -1px;overflow: hidden;padding: 0;position: absolute;width: 1px;}#sk-container-id-2 div.sk-estimator {font-family: monospace;background-color: #f0f8ff;border: 1px dotted black;border-radius: 0.25em;box-sizing: border-box;margin-bottom: 0.5em;}#sk-container-id-2 div.sk-estimator:hover {background-color: #d4ebff;}#sk-container-id-2 div.sk-parallel-item::after {content: \"\";width: 100%;border-bottom: 1px solid gray;flex-grow: 1;}#sk-container-id-2 div.sk-label:hover label.sk-toggleable__label {background-color: #d4ebff;}#sk-container-id-2 div.sk-serial::before {content: \"\";position: absolute;border-left: 1px solid gray;box-sizing: border-box;top: 0;bottom: 0;left: 50%;z-index: 0;}#sk-container-id-2 div.sk-serial {display: flex;flex-direction: column;align-items: center;background-color: white;padding-right: 0.2em;padding-left: 0.2em;position: relative;}#sk-container-id-2 div.sk-item {position: relative;z-index: 1;}#sk-container-id-2 div.sk-parallel {display: flex;align-items: stretch;justify-content: center;background-color: white;position: relative;}#sk-container-id-2 div.sk-item::before, #sk-container-id-2 div.sk-parallel-item::before {content: \"\";position: absolute;border-left: 1px solid gray;box-sizing: border-box;top: 0;bottom: 0;left: 50%;z-index: -1;}#sk-container-id-2 div.sk-parallel-item {display: flex;flex-direction: column;z-index: 1;position: relative;background-color: white;}#sk-container-id-2 div.sk-parallel-item:first-child::after {align-self: flex-end;width: 50%;}#sk-container-id-2 div.sk-parallel-item:last-child::after {align-self: flex-start;width: 50%;}#sk-container-id-2 div.sk-parallel-item:only-child::after {width: 0;}#sk-container-id-2 div.sk-dashed-wrapped {border: 1px dashed gray;margin: 0 0.4em 0.5em 0.4em;box-sizing: border-box;padding-bottom: 0.4em;background-color: white;}#sk-container-id-2 div.sk-label label {font-family: monospace;font-weight: bold;display: inline-block;line-height: 1.2em;}#sk-container-id-2 div.sk-label-container {text-align: center;}#sk-container-id-2 div.sk-container {/* jupyter's `normalize.less` sets `[hidden] { display: none; }` but bootstrap.min.css set `[hidden] { display: none !important; }` so we also need the `!important` here to be able to override the default hidden behavior on the sphinx rendered scikit-learn.org. See: https://github.com/scikit-learn/scikit-learn/issues/21755 */display: inline-block !important;position: relative;}#sk-container-id-2 div.sk-text-repr-fallback {display: none;}</style><div id=\"sk-container-id-2\" class=\"sk-top-container\"><div class=\"sk-text-repr-fallback\"><pre>GridSearchCV(cv=5,\n",
       "             estimator=Pipeline(steps=[(&#x27;vect&#x27;,\n",
       "                                        TfidfVectorizer(lowercase=False)),\n",
       "                                       (&#x27;clf&#x27;,\n",
       "                                        LogisticRegression(penalty=&#x27;l1&#x27;,\n",
       "                                                           random_state=0,\n",
       "                                                           solver=&#x27;liblinear&#x27;))]),\n",
       "             n_jobs=-1,\n",
       "             param_grid=[{&#x27;clf__C&#x27;: [1.0, 10.0, 100.0],\n",
       "                          &#x27;clf__penalty&#x27;: [&#x27;l1&#x27;, &#x27;l2&#x27;],\n",
       "                          &#x27;vect__ngram_range&#x27;: [(1, 1)],\n",
       "                          &#x27;vect__preprocessor&#x27;: [None,\n",
       "                                                 &lt;function preprocessor at 0x00000184950FF3A0&gt;],\n",
       "                          &#x27;vect__stop_...\n",
       "                                                &#x27;our&#x27;, &#x27;ours&#x27;, &#x27;ourselves&#x27;,\n",
       "                                                &#x27;you&#x27;, &quot;you&#x27;re&quot;, &quot;you&#x27;ve&quot;,\n",
       "                                                &quot;you&#x27;ll&quot;, &quot;you&#x27;d&quot;, &#x27;your&#x27;,\n",
       "                                                &#x27;yours&#x27;, &#x27;yourself&#x27;,\n",
       "                                                &#x27;yourselves&#x27;, &#x27;he&#x27;, &#x27;him&#x27;,\n",
       "                                                &#x27;his&#x27;, &#x27;himself&#x27;, &#x27;she&#x27;,\n",
       "                                                &quot;she&#x27;s&quot;, &#x27;her&#x27;, &#x27;hers&#x27;,\n",
       "                                                &#x27;herself&#x27;, &#x27;it&#x27;, &quot;it&#x27;s&quot;, &#x27;its&#x27;,\n",
       "                                                &#x27;itself&#x27;, ...],\n",
       "                                               None],\n",
       "                          &#x27;vect__tokenizer&#x27;: [&lt;function tokenizer at 0x000001849A845550&gt;,\n",
       "                                              &lt;function tokenizer_porter at 0x000001849A845AF0&gt;],\n",
       "                          &#x27;vect__use_idf&#x27;: [False]}],\n",
       "             scoring=&#x27;accuracy&#x27;, verbose=1)</pre><b>In a Jupyter environment, please rerun this cell to show the HTML representation or trust the notebook. <br />On GitHub, the HTML representation is unable to render, please try loading this page with nbviewer.org.</b></div><div class=\"sk-container\" hidden><div class=\"sk-item sk-dashed-wrapped\"><div class=\"sk-label-container\"><div class=\"sk-label sk-toggleable\"><input class=\"sk-toggleable__control sk-hidden--visually\" id=\"sk-estimator-id-5\" type=\"checkbox\" ><label for=\"sk-estimator-id-5\" class=\"sk-toggleable__label sk-toggleable__label-arrow\">GridSearchCV</label><div class=\"sk-toggleable__content\"><pre>GridSearchCV(cv=5,\n",
       "             estimator=Pipeline(steps=[(&#x27;vect&#x27;,\n",
       "                                        TfidfVectorizer(lowercase=False)),\n",
       "                                       (&#x27;clf&#x27;,\n",
       "                                        LogisticRegression(penalty=&#x27;l1&#x27;,\n",
       "                                                           random_state=0,\n",
       "                                                           solver=&#x27;liblinear&#x27;))]),\n",
       "             n_jobs=-1,\n",
       "             param_grid=[{&#x27;clf__C&#x27;: [1.0, 10.0, 100.0],\n",
       "                          &#x27;clf__penalty&#x27;: [&#x27;l1&#x27;, &#x27;l2&#x27;],\n",
       "                          &#x27;vect__ngram_range&#x27;: [(1, 1)],\n",
       "                          &#x27;vect__preprocessor&#x27;: [None,\n",
       "                                                 &lt;function preprocessor at 0x00000184950FF3A0&gt;],\n",
       "                          &#x27;vect__stop_...\n",
       "                                                &#x27;our&#x27;, &#x27;ours&#x27;, &#x27;ourselves&#x27;,\n",
       "                                                &#x27;you&#x27;, &quot;you&#x27;re&quot;, &quot;you&#x27;ve&quot;,\n",
       "                                                &quot;you&#x27;ll&quot;, &quot;you&#x27;d&quot;, &#x27;your&#x27;,\n",
       "                                                &#x27;yours&#x27;, &#x27;yourself&#x27;,\n",
       "                                                &#x27;yourselves&#x27;, &#x27;he&#x27;, &#x27;him&#x27;,\n",
       "                                                &#x27;his&#x27;, &#x27;himself&#x27;, &#x27;she&#x27;,\n",
       "                                                &quot;she&#x27;s&quot;, &#x27;her&#x27;, &#x27;hers&#x27;,\n",
       "                                                &#x27;herself&#x27;, &#x27;it&#x27;, &quot;it&#x27;s&quot;, &#x27;its&#x27;,\n",
       "                                                &#x27;itself&#x27;, ...],\n",
       "                                               None],\n",
       "                          &#x27;vect__tokenizer&#x27;: [&lt;function tokenizer at 0x000001849A845550&gt;,\n",
       "                                              &lt;function tokenizer_porter at 0x000001849A845AF0&gt;],\n",
       "                          &#x27;vect__use_idf&#x27;: [False]}],\n",
       "             scoring=&#x27;accuracy&#x27;, verbose=1)</pre></div></div></div><div class=\"sk-parallel\"><div class=\"sk-parallel-item\"><div class=\"sk-item\"><div class=\"sk-label-container\"><div class=\"sk-label sk-toggleable\"><input class=\"sk-toggleable__control sk-hidden--visually\" id=\"sk-estimator-id-6\" type=\"checkbox\" ><label for=\"sk-estimator-id-6\" class=\"sk-toggleable__label sk-toggleable__label-arrow\">estimator: Pipeline</label><div class=\"sk-toggleable__content\"><pre>Pipeline(steps=[(&#x27;vect&#x27;, TfidfVectorizer(lowercase=False)),\n",
       "                (&#x27;clf&#x27;,\n",
       "                 LogisticRegression(penalty=&#x27;l1&#x27;, random_state=0,\n",
       "                                    solver=&#x27;liblinear&#x27;))])</pre></div></div></div><div class=\"sk-serial\"><div class=\"sk-item\"><div class=\"sk-serial\"><div class=\"sk-item\"><div class=\"sk-estimator sk-toggleable\"><input class=\"sk-toggleable__control sk-hidden--visually\" id=\"sk-estimator-id-7\" type=\"checkbox\" ><label for=\"sk-estimator-id-7\" class=\"sk-toggleable__label sk-toggleable__label-arrow\">TfidfVectorizer</label><div class=\"sk-toggleable__content\"><pre>TfidfVectorizer(lowercase=False)</pre></div></div></div><div class=\"sk-item\"><div class=\"sk-estimator sk-toggleable\"><input class=\"sk-toggleable__control sk-hidden--visually\" id=\"sk-estimator-id-8\" type=\"checkbox\" ><label for=\"sk-estimator-id-8\" class=\"sk-toggleable__label sk-toggleable__label-arrow\">LogisticRegression</label><div class=\"sk-toggleable__content\"><pre>LogisticRegression(penalty=&#x27;l1&#x27;, random_state=0, solver=&#x27;liblinear&#x27;)</pre></div></div></div></div></div></div></div></div></div></div></div></div>"
      ],
      "text/plain": [
       "GridSearchCV(cv=5,\n",
       "             estimator=Pipeline(steps=[('vect',\n",
       "                                        TfidfVectorizer(lowercase=False)),\n",
       "                                       ('clf',\n",
       "                                        LogisticRegression(penalty='l1',\n",
       "                                                           random_state=0,\n",
       "                                                           solver='liblinear'))]),\n",
       "             n_jobs=-1,\n",
       "             param_grid=[{'clf__C': [1.0, 10.0, 100.0],\n",
       "                          'clf__penalty': ['l1', 'l2'],\n",
       "                          'vect__ngram_range': [(1, 1)],\n",
       "                          'vect__preprocessor': [None,\n",
       "                                                 <function preprocessor at 0x00000184950FF3A0>],\n",
       "                          'vect__stop_...\n",
       "                                                'our', 'ours', 'ourselves',\n",
       "                                                'you', \"you're\", \"you've\",\n",
       "                                                \"you'll\", \"you'd\", 'your',\n",
       "                                                'yours', 'yourself',\n",
       "                                                'yourselves', 'he', 'him',\n",
       "                                                'his', 'himself', 'she',\n",
       "                                                \"she's\", 'her', 'hers',\n",
       "                                                'herself', 'it', \"it's\", 'its',\n",
       "                                                'itself', ...],\n",
       "                                               None],\n",
       "                          'vect__tokenizer': [<function tokenizer at 0x000001849A845550>,\n",
       "                                              <function tokenizer_porter at 0x000001849A845AF0>],\n",
       "                          'vect__use_idf': [False]}],\n",
       "             scoring='accuracy', verbose=1)"
      ]
     },
     "execution_count": 5,
     "metadata": {},
     "output_type": "execute_result"
    }
   ],
   "source": [
    "import pandas as pd\n",
    "from sklearn.feature_extraction.text import CountVectorizer\n",
    "train = pd.read_csv('./data/train.csv', encoding='latin-1')\n",
    "test = pd.read_csv('./data/test.csv', encoding='latin-1')\n",
    "\n",
    "# 2. Creating bag of words\n",
    "# Bag of words: A list (vocabulary) with all the unique words in the whole corpus of tweets. \n",
    "tweets = [\n",
    "    'This is amazing!',\n",
    "    'ML is the best, yes it is',\n",
    "    'I am not sure about how this is going to end...'\n",
    "]\n",
    "count = CountVectorizer()\n",
    "\n",
    "\"\"\"\n",
    "fit_transform: Learn the vocabulary dictionary and return document-term matrix\n",
    "fit, followed by transform\n",
    "\"\"\"\n",
    "bag = count.fit_transform(tweets)\n",
    "\n",
    "\"\"\"\n",
    "vocabulary_: \n",
    "    Words learnt by the vectorizer\n",
    "Output: \n",
    "    {'this': 13, 'is': 7, 'amazing': 2,...\n",
    "\"\"\"\n",
    "print(count.vocabulary_)\n",
    "\n",
    "\"\"\"\n",
    "toarray(): \n",
    "    Array of array of inputs provided, with 0s and 1s based on their vocabulary positions\n",
    "Output: \n",
    "    [[0 0 1 0...], [], []], where every number is the presence/absence of a word in that input.\n",
    "    Example: the word \"about\" from vocabulary occurs only in last sentence, hence 0 in others\n",
    "    Also, word \"is\" occurs twice in 2nd statement, henc its count 0 in the output\n",
    "    \n",
    "    This is also called raw term frequencies, i.e. the number of times a term t occurs in a document d.\n",
    "\"\"\"\n",
    "print(bag.toarray())\n",
    "\n",
    "# 3. Identifying how relevant words are in vocabulary\n",
    "\"\"\"\n",
    "  - Using term frequency-inverse document frequency, while calculating raw term frequencies, so that\n",
    "    it reduces the score the more frequent the word is across all the tweets.\n",
    "\"\"\"\n",
    "import numpy as np\n",
    "from sklearn.feature_extraction.text import TfidfTransformer # (term frequency-inverse document frequency)\n",
    "tfidf = TfidfTransformer(use_idf=True, norm='l2', smooth_idf=True) # passing normalization parameter\n",
    "np.set_printoptions(precision=2)\n",
    "\n",
    "print(tfidf.fit_transform(bag).toarray())\n",
    "\n",
    "\n",
    "# 4. Data clean up\n",
    "from collections import Counter\n",
    "\n",
    "vocab = Counter()\n",
    "# creating a vocabulary of all words in the training data\n",
    "for tweet in train[\"SentimentText\"]:\n",
    "    for word in tweet.split(' '):\n",
    "        vocab[word] += 1\n",
    "        \n",
    "print(vocab.most_common(20))\n",
    "\n",
    "from bokeh.models import ColumnDataSource, LabelSet\n",
    "from bokeh.plotting import figure, show, output_file\n",
    "from bokeh.io import output_notebook\n",
    "output_notebook()\n",
    "\n",
    "import math\n",
    "def plot_distribution(vocabulary):\n",
    "    \n",
    "    hist, edges = np.histogram(list(map(lambda x:math.log(x[1]),vocabulary.most_common())), density=True, bins=500)\n",
    "\n",
    "    p = figure(tools=\"pan,wheel_zoom,reset,save\",\n",
    "               toolbar_location=\"above\",\n",
    "               title=\"Word distribution accross all twits\")\n",
    "    p.quad(top=hist, bottom=0, left=edges[:-1], right=edges[1:], line_color=\"#555555\", )\n",
    "    show(p)\n",
    "    \n",
    "plot_distribution(vocab)\n",
    "\n",
    "\n",
    "import nltk\n",
    "# nltk.download(\"stopwords\")\n",
    "\n",
    "\n",
    "\n",
    "from nltk.corpus import stopwords\n",
    "stop = stopwords.words('english')\n",
    "\n",
    "vocab_reduced = Counter()\n",
    "for w, c in vocab.items():\n",
    "    if not w in stop:\n",
    "        vocab_reduced[w]=c\n",
    "\n",
    "print(vocab_reduced.most_common(20))\n",
    "\n",
    "\n",
    "# 5. Preprocessing data\n",
    "import re\n",
    "def preprocessor(text):\n",
    "    \"\"\" Return a cleaned version of text\n",
    "    \"\"\"\n",
    "    # Remove HTML markup\n",
    "    text = re.sub('<[^>]*>', '', text)\n",
    "    # Save emoticons for later appending\n",
    "    emoticons = re.findall('(?::|;|=)(?:-)?(?:\\)|\\(|D|P)', text)\n",
    "    # Remove any non-word character and append the emoticons,\n",
    "    # removing the nose character for standarization. Convert to lower case\n",
    "    text = (re.sub('[\\W]+', ' ', text.lower()) + ' ' + ' '.join(emoticons).replace('-', ''))\n",
    "    \n",
    "    return text\n",
    "\n",
    "print(preprocessor('This!! tweet man :) is <b>nice</b>'))\n",
    "\n",
    "\"\"\"\n",
    " -  Also performing stemming, the process of reducing a word to its root is.\n",
    "    Example: love, loving etc all have same root love.\n",
    "\"\"\"\n",
    "\n",
    "from nltk.stem import PorterStemmer\n",
    "porter = PorterStemmer()\n",
    "\n",
    "# normal tokenizer\n",
    "def tokenizer(text):\n",
    "    return text.split()\n",
    "\n",
    "def tokenizer_porter(text):\n",
    "    return [porter.stem(word) for word in text.split()]\n",
    "\n",
    "print(tokenizer('Hi there, I am loving this, like with a lot of love'))\n",
    "print(tokenizer_porter('Hi there, I am loving this, like with a lot of love'))\n",
    "\n",
    "\n",
    "# 6. Starting with train test split of data\n",
    "from sklearn.model_selection import train_test_split\n",
    "X = train['SentimentText']\n",
    "y = train['Sentiment']\n",
    "\"\"\"\n",
    "    stratify will create a train set with the same class balance than the original set\n",
    "\"\"\"\n",
    "X_train, X_test, y_train, y_test = train_test_split(X, y, test_size=0.3, random_state=0, stratify=y)\n",
    "\n",
    "\n",
    "# 7. Summing it all up\n",
    "\n",
    "from sklearn.model_selection import GridSearchCV\n",
    "from sklearn.pipeline import Pipeline\n",
    "from sklearn.linear_model import LogisticRegression\n",
    "from sklearn.feature_extraction.text import TfidfVectorizer\n",
    "\n",
    "tfidf = TfidfVectorizer(strip_accents=None,\n",
    "                        lowercase=False,\n",
    "                        preprocessor=None)\n",
    "\n",
    "# writing param grid with properties like stop_words, preprocessor etc\n",
    "param_grid = [{'vect__ngram_range': [(1, 1)],\n",
    "               'vect__stop_words': [stop, None],\n",
    "               'vect__tokenizer': [tokenizer, tokenizer_porter],\n",
    "               'vect__preprocessor': [None, preprocessor],\n",
    "               'clf__penalty': ['l1', 'l2'],\n",
    "               'clf__C': [1.0, 10.0, 100.0]},\n",
    "              {'vect__ngram_range': [(1, 1)],\n",
    "               'vect__stop_words': [stop, None],\n",
    "               'vect__tokenizer': [tokenizer, tokenizer_porter],\n",
    "               'vect__preprocessor': [None, preprocessor],\n",
    "               'vect__use_idf':[False],\n",
    "               'vect__norm':[None],\n",
    "               'clf__penalty': ['l1', 'l2'],\n",
    "               'clf__C': [1.0, 10.0, 100.0]},\n",
    "              ]\n",
    "\n",
    "# using pipeline to create a sequential flow of items\n",
    "lr_tfidf = Pipeline([('vect', tfidf),\n",
    "                     ('clf', LogisticRegression(random_state=0, penalty='l1', solver='liblinear'))])\n",
    "\n",
    "\n",
    "# using GridCV for training\n",
    "gs_lr_tfidf = GridSearchCV(lr_tfidf, param_grid,\n",
    "                           scoring='accuracy',\n",
    "                           cv=5,\n",
    "                           verbose=1,\n",
    "                           n_jobs=-1)\n",
    "\n",
    "# training the model\n",
    "gs_lr_tfidf.fit(X_train, y_train)\n"
   ]
  },
  {
   "cell_type": "code",
   "execution_count": 6,
   "metadata": {},
   "outputs": [
    {
     "name": "stdout",
     "output_type": "stream",
     "text": [
      "Best parameter set: {'clf__C': 1.0, 'clf__penalty': 'l2', 'vect__ngram_range': (1, 1), 'vect__preprocessor': <function preprocessor at 0x00000184950FF3A0>, 'vect__stop_words': None, 'vect__tokenizer': <function tokenizer at 0x000001849A845550>}\n",
      "Best accuracy: 0.772\n"
     ]
    }
   ],
   "source": [
    "# getting best model\n",
    "print('Best parameter set: ' + str(gs_lr_tfidf.best_params_))\n",
    "print('Best accuracy: %.3f' % gs_lr_tfidf.best_score_)"
   ]
  },
  {
   "cell_type": "code",
   "execution_count": 7,
   "metadata": {},
   "outputs": [
    {
     "name": "stdout",
     "output_type": "stream",
     "text": [
      "Accuracy in test: 0.770\n"
     ]
    }
   ],
   "source": [
    "clf = gs_lr_tfidf.best_estimator_\n",
    "print('Accuracy in test: %.3f' % clf.score(X_test, y_test))"
   ]
  },
  {
   "cell_type": "code",
   "execution_count": 9,
   "metadata": {},
   "outputs": [
    {
     "data": {
      "text/plain": [
       "array([0, 1, 1, 0], dtype=int64)"
      ]
     },
     "execution_count": 9,
     "metadata": {},
     "output_type": "execute_result"
    }
   ],
   "source": [
    "tweets = [\n",
    "    \"This is really bad, I don't like it at all\",\n",
    "    \"I love this!\",\n",
    "    \":)\",\n",
    "    \"I'm sad... :(\"\n",
    "]\n",
    "\n",
    "# using model to predict\n",
    "clf.predict(tweets)"
   ]
  },
  {
   "cell_type": "code",
   "execution_count": 10,
   "metadata": {},
   "outputs": [],
   "source": [
    "import pickle\n",
    "import os\n",
    "\n",
    "# saving model\n",
    "pickle.dump(clf, open(os.path.join('data', 'logisticRegression.pkl'), 'wb'), protocol=4)"
   ]
  }
 ],
 "metadata": {
  "kernelspec": {
   "display_name": "Python 3.9.10 ('venv': venv)",
   "language": "python",
   "name": "python3"
  },
  "language_info": {
   "codemirror_mode": {
    "name": "ipython",
    "version": 3
   },
   "file_extension": ".py",
   "mimetype": "text/x-python",
   "name": "python",
   "nbconvert_exporter": "python",
   "pygments_lexer": "ipython3",
   "version": "3.9.10"
  },
  "orig_nbformat": 4,
  "vscode": {
   "interpreter": {
    "hash": "bf84eaf29bf1a4c5cccc3a636de0468c4b731e862cbd47e294d02b77186a531a"
   }
  }
 },
 "nbformat": 4,
 "nbformat_minor": 2
}
