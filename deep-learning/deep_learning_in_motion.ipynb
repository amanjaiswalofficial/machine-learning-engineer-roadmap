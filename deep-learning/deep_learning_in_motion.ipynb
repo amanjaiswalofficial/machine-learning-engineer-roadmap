{
 "cells": [
  {
   "cell_type": "markdown",
   "metadata": {},
   "source": [
    "#### Parametric vs Non Parametric Learning\n",
    "\n",
    "Trial and error method \n",
    "**vs** \n",
    "Solve using counting, probability etc\n",
    "\n",
    "When no. of parameters are determined, just what setting/value they should be set at is to be identified \n",
    "**vs** \n",
    "Count based - keeps adding new parameters/settings as it finds something new to learning"
   ]
  },
  {
   "cell_type": "markdown",
   "metadata": {},
   "source": [
    "#### Workflow of Parametric Learning:\n",
    "\n",
    "1. Use some data to predict\n",
    "2. Compare the output prediction to the truth\n",
    "3. Adjust the weights/values for the parameters, to predict better next time on similar data"
   ]
  },
  {
   "cell_type": "markdown",
   "metadata": {},
   "source": [
    "#### Sample neural network"
   ]
  },
  {
   "cell_type": "code",
   "execution_count": 1,
   "metadata": {},
   "outputs": [],
   "source": [
    "def neural_network(input, weight):\n",
    "    prediction = input * weight\n",
    "    return prediction"
   ]
  },
  {
   "cell_type": "markdown",
   "metadata": {},
   "source": [
    "#### Multiple inputs and weights"
   ]
  },
  {
   "cell_type": "code",
   "execution_count": 4,
   "metadata": {},
   "outputs": [
    {
     "data": {
      "text/plain": [
       "0.9700000000000001"
      ]
     },
     "execution_count": 4,
     "metadata": {},
     "output_type": "execute_result"
    }
   ],
   "source": [
    "def neural_network_2(input, weights):\n",
    "    prediction = w_sum(input, weights)\n",
    "    return prediction\n",
    "\n",
    "def w_sum(a, b):\n",
    "    assert len(a) == len(b)\n",
    "    output = 0\n",
    "    for i in range(len(a)):\n",
    "        output += a[i] * b[i]\n",
    "\n",
    "    return output\n",
    "\n",
    "weights = [0.1, 0.2, 0]\n",
    "inputs = [8.5, 0.6, 1.2]\n",
    "\n",
    "pred = neural_network_2(inputs, weights)\n",
    "pred"
   ]
  },
  {
   "cell_type": "markdown",
   "metadata": {},
   "source": [
    "#### Multiple outputs and weights"
   ]
  },
  {
   "cell_type": "code",
   "execution_count": 3,
   "metadata": {},
   "outputs": [
    {
     "data": {
      "text/plain": [
       "[0.195, 0.13, 0.5850000000000001]"
      ]
     },
     "execution_count": 3,
     "metadata": {},
     "output_type": "execute_result"
    }
   ],
   "source": [
    "def neural_network_3(input, weights):\n",
    "    pred = ele_mul(input, weights)\n",
    "    return pred\n",
    "\n",
    "def ele_mul(number, vector):\n",
    "    output = [0, 0, 0]\n",
    "    assert len(output) == len(vector)\n",
    "    for i in range(len(vector)):\n",
    "        output[i] = number * vector[i]\n",
    "\n",
    "    return output\n",
    "\n",
    "weights = [0.3, 0.2, 0.9]\n",
    "win_loss_records = [0.65, 0.8, 0.8, 0.9]\n",
    "input = win_loss_records[0]\n",
    "pred = neural_network_3(input, weights)\n",
    "pred"
   ]
  },
  {
   "cell_type": "markdown",
   "metadata": {},
   "source": [
    "#### Multiple inputs and outputs"
   ]
  },
  {
   "cell_type": "markdown",
   "metadata": {},
   "source": [
    "\n",
    "![](images\\img_1.png)"
   ]
  },
  {
   "cell_type": "code",
   "execution_count": 6,
   "metadata": {},
   "outputs": [
    {
     "data": {
      "text/plain": [
       "[0.555, 0.9800000000000001, 0.9650000000000001]"
      ]
     },
     "execution_count": 6,
     "metadata": {},
     "output_type": "execute_result"
    }
   ],
   "source": [
    "def neural_network_4(input, weights):\n",
    "    pred = vec_mat_mul(input, weights)\n",
    "    return pred\n",
    "\n",
    "def     _mul(vector, matrix):\n",
    "    output = [0] * len(vector)\n",
    "    for i in range(len(vector)):\n",
    "        output[i] = w_sum(vector, matrix[i])\n",
    "    \n",
    "    return output\n",
    "\n",
    "def w_sum(a, b):\n",
    "    assert(len(a) == len(b))\n",
    "    output = 0\n",
    "    for i in range(len(a)):\n",
    "        output += a[i] * b [i]\n",
    "    return output\n",
    "\n",
    "toes = [8.5, 9.5, 9.9, 9.0]\n",
    "wlrec = [0.65, 0.8, 0.8, 0.9]\n",
    "nfans = [1.2, 1.3, 0.5, 1.0]\n",
    "inputs = [toes[0], wlrec[0], nfans[0]]\n",
    "\n",
    "weights = [[0.1, 0.1, -0.3],[0.1, 0.2, 0.0], [0.0, 1.3, 0.1]]\n",
    "\n",
    "pred = neural_network_4(inputs, weights)\n",
    "pred"
   ]
  },
  {
   "cell_type": "markdown",
   "metadata": {},
   "source": [
    "#### Stacking predictions\n",
    "![](deep-learning\\images\\img_2.png)"
   ]
  },
  {
   "cell_type": "code",
   "execution_count": 7,
   "metadata": {},
   "outputs": [
    {
     "data": {
      "text/plain": [
       "[-0.18849999999999997, 0.21000000000000002, 0.5065]"
      ]
     },
     "execution_count": 7,
     "metadata": {},
     "output_type": "execute_result"
    }
   ],
   "source": [
    "def neural_network_4(input, weights):\n",
    "    pred = vec_mat_mul(input, weights[0])\n",
    "    pred = vec_mat_mul(pred, weights[1])\n",
    "\n",
    "    return pred\n",
    "\n",
    "def vec_mat_mul(vector, matrix):\n",
    "    output = [0] * len(vector)\n",
    "    for i in range(len(vector)):\n",
    "        output[i] = w_sum(vector, matrix[i])\n",
    "    \n",
    "    return output\n",
    "\n",
    "def w_sum(a, b):\n",
    "    assert(len(a) == len(b))\n",
    "    output = 0\n",
    "    for i in range(len(a)):\n",
    "        output += a[i] * b [i]\n",
    "    return output\n",
    "\n",
    "toes = [8.5, 9.5, 9.9, 9.0]\n",
    "wlrec = [0.65, 0.8, 0.8, 0.9]\n",
    "nfans = [1.2, 1.3, 0.5, 1.0]\n",
    "inputs = [toes[0], wlrec[0], nfans[0]]\n",
    "\n",
    "weights_1 = [[0.1, 1.2, -0.1],[-0.1, 0.1, 0.9], [0.1, 0.4, 0.1]]\n",
    "weights_2 = [[0.1, 0.1, -0.3],[0.1, 0.2, 0.0], [0.0, 1.3, 0.1]]\n",
    "weights = [weights_1, weights_2]\n",
    "\n",
    "pred = neural_network_4(inputs, weights)\n",
    "pred"
   ]
  },
  {
   "cell_type": "markdown",
   "metadata": {},
   "source": [
    "##### Same using numpy"
   ]
  },
  {
   "cell_type": "code",
   "execution_count": 6,
   "metadata": {},
   "outputs": [
    {
     "data": {
      "text/plain": [
       "array([ 0.915,  2.54 , -2.43 ])"
      ]
     },
     "execution_count": 6,
     "metadata": {},
     "output_type": "execute_result"
    }
   ],
   "source": [
    "import numpy as np\n",
    "weights_1 = np.array([[0.1, 1.2, -0.1],[-0.1, 0.1, 0.9], [0.1, 0.4, 0.1]])\n",
    "weights_2 = np.array([[0.1, 0.1, -0.3],[0.1, 0.2, 0.0], [0.0, 1.3, 0.1]])\n",
    "weights = [weights_1, weights_2]\n",
    "\n",
    "def neural_network(input, weights):\n",
    "    hid = input.dot(weights[0])\n",
    "    pred = input.dot(weights[1])\n",
    "    return pred\n",
    "\n",
    "toes = np.array([8.5])\n",
    "wlrec = np.array([0.65])\n",
    "nfans = np.array([1.2])\n",
    "\n",
    "input = np.array([toes[0], wlrec[0], nfans[0]])\n",
    "pred = neural_network(input, weights)\n",
    "pred\n",
    "\n"
   ]
  },
  {
   "cell_type": "markdown",
   "metadata": {},
   "source": [
    "#### Compare and Learn\n",
    "Post prediction, the next step is evaluation against actual result to tell how far was the prediction.\n",
    "\n",
    "##### Mean Squared Error (the compare part)\n",
    "One of the ways to do so is MSE. It tells whether the prediction was accurate, more by x amount, less by x amount.\n",
    "\n",
    "##### Gradient Descent (the learn part) \n",
    "GD fixes this by adjusting the weight\n",
    "1. Compare the number for each weight\n",
    "2. Move weight according to number\n",
    "3. Repeat if needed in next iteration."
   ]
  },
  {
   "cell_type": "code",
   "execution_count": 7,
   "metadata": {},
   "outputs": [
    {
     "data": {
      "text/plain": [
       "0.30250000000000005"
      ]
     },
     "execution_count": 7,
     "metadata": {},
     "output_type": "execute_result"
    }
   ],
   "source": [
    "# Example of measuring in python\n",
    "knob_weight = 0.5\n",
    "input = 0.5\n",
    "goal_pred = 0.8\n",
    "\n",
    "pred = input * knob_weight\n",
    "error = (pred - goal_pred)**2\n",
    "error"
   ]
  },
  {
   "cell_type": "markdown",
   "metadata": {},
   "source": [
    "We square it because to avoid negative errors, as the difference can be -ve in some cases. Ex - in case of an archer, the arrow can be higher than the target, or lower than the target."
   ]
  },
  {
   "cell_type": "markdown",
   "metadata": {},
   "source": [
    "We measure error so that we can adjust the weights accordingly. The end goal in deep learning is to find weights such that the errors can be reduced to 0, and the prediction can be as close as the actuals."
   ]
  },
  {
   "cell_type": "markdown",
   "metadata": {},
   "source": [
    "Squaring the errors help prioritizing what weights to focus more on. error of 10 results in error of 1000, whereas error of 0.01 will result in 0.00001. As expected, working on the one with error 10 will yield more results"
   ]
  },
  {
   "cell_type": "markdown",
   "metadata": {},
   "source": [
    "#### Hot and Cold Learning"
   ]
  },
  {
   "cell_type": "code",
   "execution_count": 8,
   "metadata": {},
   "outputs": [
    {
     "name": "stdout",
     "output_type": "stream",
     "text": [
      "Error 1.0799505792475652e-27 Prediction 0.7999999999999672\n"
     ]
    },
    {
     "ename": "",
     "evalue": "",
     "output_type": "error",
     "traceback": [
      "\u001b[1;31mThe Kernel crashed while executing code in the the current cell or a previous cell. Please review the code in the cell(s) to identify a possible cause of the failure. Click <a href='https://aka.ms/vscodeJupyterKernelCrash'>here</a> for more info. View Jupyter <a href='command:jupyter.viewOutput'>log</a> for further details."
     ]
    }
   ],
   "source": [
    "# Running hot and cold learning\n",
    "weight = 0.5\n",
    "input = 0.5\n",
    "goal_prediction = 0.8\n",
    "step_amount = 0.001\n",
    "\n",
    "def neural_network(input, weight):\n",
    "    prediction = input * weight\n",
    "    return prediction\n",
    "\n",
    "for iter in range(1101):\n",
    "    prediction = neural_network(input, weight)\n",
    "    error = (prediction - goal_prediction) ** 2\n",
    "\n",
    "    up_pred = neural_network(input, weight + step_amount)\n",
    "    up_error = (goal_prediction - up_pred) ** 2\n",
    "\n",
    "    down_pred = neural_network(input, weight - step_amount)\n",
    "    down_error = (goal_prediction - down_pred) ** 2\n",
    "\n",
    "    if down_error < up_error:\n",
    "        weight = weight - step_amount\n",
    "    elif down_error > up_error:\n",
    "        weight = weight + step_amount\n",
    "\n",
    "print(\"Error\", error, \"Prediction\", prediction)"
   ]
  },
  {
   "cell_type": "markdown",
   "metadata": {},
   "source": [
    "This way of doing Hot and Cold Learning is inefficient as it causes 3 times the prediction function to run"
   ]
  },
  {
   "cell_type": "markdown",
   "metadata": {},
   "source": [
    "#### Gradient Descent and using it to learn"
   ]
  },
  {
   "cell_type": "code",
   "execution_count": 5,
   "metadata": {},
   "outputs": [
    {
     "name": "stdout",
     "output_type": "stream",
     "text": [
      "Weight 0\n",
      "Error 0.6400000000000001 Prediction 0.0\n",
      "Delta -0.8 Weight Delta -0.8800000000000001\n",
      "---\n",
      "Weight 0.8800000000000001\n",
      "Error 0.02822400000000005 Prediction 0.9680000000000002\n",
      "Delta 0.16800000000000015 Weight Delta 0.1848000000000002\n",
      "---\n",
      "Weight 0.6951999999999999\n",
      "Error 0.0012446784000000064 Prediction 0.76472\n",
      "Delta -0.03528000000000009 Weight Delta -0.0388080000000001\n",
      "---\n",
      "Weight 0.734008\n",
      "Error 5.4890317439999896e-05 Prediction 0.8074088\n",
      "Delta 0.007408799999999993 Weight Delta 0.008149679999999992\n",
      "---\n"
     ]
    }
   ],
   "source": [
    "weight = 0\n",
    "input = 1.1\n",
    "goal_prediction = 0.8\n",
    "alpha = 1\n",
    "\n",
    "def neural_network(input, weight):\n",
    "    prediction = input * weight\n",
    "    return prediction\n",
    "\n",
    "for iter in range(4):\n",
    "    print(\"Weight\", weight)\n",
    "    prediction = neural_network(input, weight)\n",
    "    # square method\n",
    "    error = (prediction - goal_prediction) ** 2\n",
    "    # error = ((input*weight) - goal_prediction) ** 2\n",
    "    delta = prediction - goal_prediction\n",
    "    weight_delta = input * delta\n",
    "    weight -= weight_delta * alpha\n",
    "    print(\"Error\", error, \"Prediction\", prediction)\n",
    "    print(\"Delta\", delta, \"Weight Delta\", weight_delta)\n",
    "    print(\"---\")"
   ]
  },
  {
   "cell_type": "markdown",
   "metadata": {},
   "source": [
    "As this line states:\n",
    "```python\n",
    "error = ((input*weight) - goal_prediction) ** 2\n",
    "```\n",
    "If we fix the input and goal_prediction, which is something we are aware of from the beginning, then there's a direct relation between error and weight\n",
    "\n",
    "The goal hence is to have the weight adjusted in such a way that the error reaches the bottom of a bell curve.\n",
    "\n",
    "That would be the most optimal value of weight\n",
    "\n",
    "In above example, after 4 iterations. We reach the goal prediction, which is around 0.8."
   ]
  },
  {
   "cell_type": "markdown",
   "metadata": {},
   "source": [
    "#### Error vs Derivative"
   ]
  },
  {
   "cell_type": "markdown",
   "metadata": {},
   "source": [
    "Error is how much we missed\n",
    "\n",
    "Derivative is the relationship between weights and how much we missed, i.e. on changing how much weight change, changes the error"
   ]
  },
  {
   "cell_type": "markdown",
   "metadata": {},
   "source": [
    "Moreover, derivative is\n",
    "1. The rate of change of a function with respect to a variable at\n",
    "a particular point\n",
    "2. The slope at a point on a line or curve\n",
    "3. Helps identify the senstivity between 2 variables."
   ]
  },
  {
   "cell_type": "markdown",
   "metadata": {},
   "source": [
    "#### Gradient Descent with multiple inputs"
   ]
  },
  {
   "cell_type": "code",
   "execution_count": 20,
   "metadata": {},
   "outputs": [
    {
     "name": "stdout",
     "output_type": "stream",
     "text": [
      "[0.1119, 0.20091, -0.09832]\n"
     ]
    }
   ],
   "source": [
    "def w_sum(input_arr, weight_arr):\n",
    "    \"\"\"\n",
    "    Calculate weighted sum between input arr and weight arr such that\n",
    "    output[0] = input[0] * weight[0]\n",
    "           1          1           1\n",
    "    and so on\n",
    "    \"\"\"\n",
    "    assert len(input_arr) == len(weight_arr)\n",
    "    output = 0\n",
    "    for i in range(len(input_arr)):\n",
    "        output += (input_arr[i] * weight_arr[i])\n",
    "    return output\n",
    "\n",
    "def neural_network(input, weight):\n",
    "    \"\"\"\n",
    "    Call method responsible for doing weighted sum here\n",
    "    \"\"\"\n",
    "    prediction = w_sum(input, weight)\n",
    "    return prediction\n",
    "\n",
    "def element_mul(number, input_arr):\n",
    "    \"\"\"\n",
    "    Initialize output array as [0, 0, 0]\n",
    "    For every input value, multiply it with delta to generate\n",
    "    new set of input_arr values\n",
    "    \"\"\"\n",
    "    output = [0, 0, 0]\n",
    "    assert len(output) == len(input_arr)\n",
    "    for i in range(len(input_arr)):\n",
    "        output[i] = number * input_arr[i]\n",
    "    return output\n",
    "\n",
    "toes = [8.5, 9.5, 9.9, 9.0]\n",
    "win_loss_rec = [0.65, 0.8, 0.8, 0.9]\n",
    "num_fans = [1.2, 1.3, 0.5, 1.0]\n",
    "win_or_loss = [1, 1, 0, 1]\n",
    "\n",
    "weights = [0.1, 0.2, -0.1]\n",
    "true = win_or_loss[0]\n",
    "input = [toes[0], win_loss_rec[0], num_fans[0]]\n",
    "\n",
    "pred = neural_network(input, weights)\n",
    "\n",
    "error = (pred - true) ** 2\n",
    "delta = pred - true\n",
    "weight_delta = element_mul(delta, input)\n",
    "alpha = 0.01\n",
    "# once weight delta is calculated, updated all the weights accordingly\n",
    "for i in range(len(weights)):\n",
    "    weights[i] -= alpha * weight_delta[i]\n",
    "\n",
    "print(weights)"
   ]
  },
  {
   "cell_type": "markdown",
   "metadata": {},
   "source": [
    "Based on above:\n",
    "\n",
    "**Delta**, how much we want the node value to change\n",
    "\n",
    "**Weight Delta**, an estimate for the direction and amount we should move our weights to reduce node delta, inferred by the derivative"
   ]
  },
  {
   "cell_type": "markdown",
   "metadata": {},
   "source": [
    "##### Gradient Descent with multiple inputs + multiple iterations"
   ]
  },
  {
   "cell_type": "code",
   "execution_count": 19,
   "metadata": {},
   "outputs": [
    {
     "name": "stdout",
     "output_type": "stream",
     "text": [
      "Prediction: 0.8600000000000001 Error: 0.01959999999999997 Delta: -0.1399999999999999\n",
      "Weights: [0.1, 0.2, -0.1]\n",
      "Weight Deltas [0, -0.09099999999999994, -0.16799999999999987]\n",
      "---\n",
      "Prediction: 0.9382250000000001 Error: 0.003816150624999989 Delta: -0.06177499999999991\n",
      "Weights: [0.1, 0.2273, -0.04960000000000005]\n",
      "Weight Deltas [0, -0.040153749999999946, -0.07412999999999989]\n",
      "---\n",
      "Prediction: 0.97274178125 Error: 0.000743010489422852 Delta: -0.027258218750000007\n",
      "Weights: [0.1, 0.239346125, -0.02736100000000008]\n",
      "Weight Deltas [0, -0.017717842187500006, -0.032709862500000006]\n",
      "---\n"
     ]
    }
   ],
   "source": [
    "\n",
    "def neural_network(inputs, weights):\n",
    "    output = 0\n",
    "    for i in range(len(inputs)):\n",
    "        output += (inputs[i] * weights[i])\n",
    "    return output\n",
    "\n",
    "def element_mul(number, input_arr):\n",
    "    output = [0, 0, 0]\n",
    "    assert len(output) == len(input_arr)\n",
    "    for i in range(len(input_arr)):\n",
    "        output[i] = number * input_arr[i]\n",
    "    return output\n",
    "\n",
    "toes = [8.5, 9.5, 9.9, 9.0]\n",
    "win_loss_rec = [0.65, 0.8, 0.8, 0.9]\n",
    "num_fans = [1.2, 1.3, 0.5, 1.0]\n",
    "win_or_loss = [1, 1, 0, 1]\n",
    "\n",
    "alpha = 0.01\n",
    "weights = [0.1, 0.2, -0.1]\n",
    "true = win_or_loss[0]\n",
    "input = [toes[0], win_loss_rec[0], num_fans[0]]\n",
    "\n",
    "\n",
    "for iter in range(3):\n",
    "    pred = neural_network(input, weights)\n",
    "    error = (pred - true) ** 2\n",
    "    delta = pred - true\n",
    "    weight_delta = element_mul(delta, input)\n",
    "    print(\"Prediction:\", pred, \"Error:\", error, \"Delta:\", delta)\n",
    "    print(\"Weights:\", weights)\n",
    "    print(\"Weight Deltas\", weight_delta)\n",
    "    print(\"---\")\n",
    "    for i in range(len(weights)):\n",
    "        weights[i] -= alpha * weight_delta[i]\n"
   ]
  },
  {
   "cell_type": "markdown",
   "metadata": {},
   "source": [
    "So the end goal, in the neural network is to find the lowest point in the error plane where the lowest point refers to lowest error"
   ]
  },
  {
   "cell_type": "markdown",
   "metadata": {},
   "source": [
    "#### Gradient Descent with multiple inputs + multiple outputs"
   ]
  },
  {
   "cell_type": "code",
   "execution_count": 22,
   "metadata": {},
   "outputs": [
    {
     "name": "stdout",
     "output_type": "stream",
     "text": [
      "Prediction: [0.195, 0.13, 0.5850000000000001] Error: [0.009025, 0.7569, 0.2352250000000001] Delta: [0.095, -0.87, 0.4850000000000001]\n",
      "Weights: [0.293825, 0.25655, 0.868475]\n",
      "Weight Deltas [-1.189999999999999, -0.09099999999999994, -0.16799999999999987]\n",
      "---\n"
     ]
    }
   ],
   "source": [
    "def neural_network(inputs, weights):\n",
    "    pred = element_mul(inputs, weights)\n",
    "    return pred\n",
    "\n",
    "def element_mul(number, input_arr):\n",
    "    output = [0, 0, 0]\n",
    "    assert len(output) == len(input_arr)\n",
    "    for i in range(len(input_arr)):\n",
    "        output[i] = number * input_arr[i]\n",
    "    return output\n",
    "\n",
    "weights = [0.3, 0.2, 0.9]\n",
    "win_loss_rec = [0.65, 1.0, 1.0, 0.9]\n",
    "\n",
    "hurt = [0.1]\n",
    "win = [1]\n",
    "sad = [0.1]\n",
    "\n",
    "input = win_loss_rec[0]\n",
    "goal_prediction = [hurt[0], win[0], sad[0]]\n",
    "\n",
    "pred = neural_network(input, weights)\n",
    "error = [0, 0, 0]\n",
    "delta = [0, 0, 0]\n",
    "\n",
    "alpha = 0.1\n",
    "for i in range(len(goal_prediction)):\n",
    "    error[i] = (pred[i] - goal_prediction[i]) ** 2\n",
    "    delta[i] = pred[i] - goal_prediction[i]\n",
    "\n",
    "weight_deltas = element_mul(input, delta)\n",
    "\n",
    "for i in range(len(weights)):\n",
    "    weights[i] -= (weight_deltas[i] * alpha)\n",
    "\n",
    "print(\"Prediction:\", pred, \"Error:\", error, \"Delta:\", delta)\n",
    "print(\"Weights:\", weights)\n",
    "print(\"Weight Deltas\", weight_delta)\n",
    "print(\"---\")"
   ]
  },
  {
   "cell_type": "markdown",
   "metadata": {},
   "source": [
    "Updated to have multiple outputs"
   ]
  },
  {
   "cell_type": "code",
   "execution_count": 14,
   "metadata": {},
   "outputs": [
    {
     "name": "stdout",
     "output_type": "stream",
     "text": [
      "Prediction: [0.555, 0.9800000000000001, 0.9650000000000001]\n",
      "Error: [0.20702500000000007, 0.0003999999999999963, 0.7482250000000001]\n",
      "Delta: [0.45500000000000007, -0.019999999999999907, 0.8650000000000001]\n",
      "Weights: [[-3.7675000000000014, 0.26999999999999924, -7.652500000000003], [-0.1957500000000001, 0.21299999999999997, -0.5622500000000001], [-0.5459999999999999, 1.3239999999999996, -0.9380000000000001]]\n",
      "Weight Deltas [[3.8675000000000006, -0.1699999999999992, 7.352500000000001], [0.29575000000000007, -0.01299999999999994, 0.5622500000000001], [0.546, -0.023999999999999886, 1.038]]\n",
      "---\n"
     ]
    }
   ],
   "source": [
    "def neural_network(inputs, weights):\n",
    "    # 6. Perform vector (arrays of values) multiplication\n",
    "    # instead of single value\n",
    "    pred = vec_mat_mul(inputs, weights)\n",
    "    return pred\n",
    "\n",
    "def vec_mat_mul(vector_arr, matrix_arr):\n",
    "    output = [0, 0, 0] # to return value, same size as vector_arr\n",
    "    for i in range(len(vector_arr)):\n",
    "        # multiply [1x3] * [1x3]\n",
    "        # get single output value, as weighted sum\n",
    "        output[i] = w_sum(vector_arr, matrix_arr[i]) \n",
    "\n",
    "    return output\n",
    "\n",
    "def w_sum(a, b):\n",
    "    # 7. Between arrays of 1x3 and 1x3, multiply and keep adding to come up\n",
    "    # with single value\n",
    "    assert len(a) == len(b)\n",
    "    output = 0\n",
    "    for i in range(len(a)):\n",
    "        output += a[i] * b[i]\n",
    "    \n",
    "    # return single value\n",
    "    return output\n",
    "\n",
    "def outer_prod(vec_a, vec_b):\n",
    "    # 10. Generate a 2D array of size len(vec_a)*len(vec_b)\n",
    "    # Return a final array of multiplication between vec_a and vec_b\n",
    "    out = [[0] * len(vec_a) for _ in range(len(vec_b))]\n",
    "    for i in range(len(vec_a)):\n",
    "        for j in range(len(vec_b)):\n",
    "            out[i][j] = vec_a[i] * vec_b[j]\n",
    "        \n",
    "    return out\n",
    "\n",
    "\n",
    "# 1. Multiple weights for each input\n",
    "              #toes #win #fans\n",
    "weight_arr = [[0.1, 0.1, -0.3], #hurt\n",
    "              [0.1, 0.2, 0.0], #win\n",
    "              [0.0, 1.3, 0.1]] #sad\n",
    "\n",
    "# 2. Each feature/input and its value\n",
    "toes = [8.5, 9.5, 9.9, 9.0]\n",
    "win_loss_rec = [0.65, 1.0, 1.0, 0.9]\n",
    "num_fans = [1.2, 1.3, 0.5, 1.0]\n",
    "\n",
    "# 3. Prediction\n",
    "hurt = [0.1] # 1x4\n",
    "win = [1] # 1x4\n",
    "sad = [0.1] # 1x4\n",
    "\n",
    "# 4. Identifying input and output (goal prediction)\n",
    "input_arr = [toes[0], win_loss_rec[0], num_fans[0]]\n",
    "goal_prediction = [hurt[0], win[0], sad[0]]\n",
    "\n",
    "# 5. Generate predictions\n",
    "generated_prediction = neural_network(input_arr, weight_arr)\n",
    "\n",
    "# 8. prediction returned from NN for given input arr and weight arr\n",
    "# is [0.555, 0.9800000000000001, 0.9650000000000001]\n",
    "\n",
    "# initialize error and delta\n",
    "error = [0, 0, 0]\n",
    "delta = [0, 0, 0]\n",
    "alpha = 0.1 # step, i.e. amount of updation to be done at each iteration\n",
    "\n",
    "# for each value, compare against generated prediction and goal\n",
    "# save it in error and delta\n",
    "for i in range(len(goal_prediction)):\n",
    "    error[i] = (generated_prediction[i] - goal_prediction[i]) ** 2\n",
    "    delta[i] = generated_prediction[i] - goal_prediction[i]\n",
    "\n",
    "# 9. Get weight deltas based on the input_arr and delta calculated\n",
    "weight_deltas = outer_prod(input_arr, delta)\n",
    "\n",
    "# 11. According to weight_deltas, received, update the weights as per need\n",
    "for i in range(len(weights)):\n",
    "    for j in range(len(weights[0])):\n",
    "        weights[i][j] -= (weight_deltas[i][j] * alpha)\n",
    "\n",
    "print(\"Prediction:\", pred)\n",
    "print(\"Error:\", error)\n",
    "print(\"Delta:\", delta)\n",
    "print(\"Weights:\", weights)\n",
    "print(\"Weight Deltas\", weight_deltas)\n",
    "print(\"---\")\n"
   ]
  }
 ],
 "metadata": {
  "kernelspec": {
   "display_name": "Python 3",
   "language": "python",
   "name": "python3"
  },
  "language_info": {
   "codemirror_mode": {
    "name": "ipython",
    "version": 3
   },
   "file_extension": ".py",
   "mimetype": "text/x-python",
   "name": "python",
   "nbconvert_exporter": "python",
   "pygments_lexer": "ipython3",
   "version": "3.8.0"
  }
 },
 "nbformat": 4,
 "nbformat_minor": 2
}
