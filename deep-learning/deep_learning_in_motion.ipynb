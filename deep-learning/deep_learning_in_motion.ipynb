{
 "cells": [
  {
   "cell_type": "markdown",
   "metadata": {},
   "source": [
    "#### Parametric vs Non Parametric Learning\n",
    "\n",
    "Trial and error method \n",
    "**vs** \n",
    "Solve using counting, probability etc\n",
    "\n",
    "When no. of parameters are determined, just what setting/value they should be set at is to be identified \n",
    "**vs** \n",
    "Count based - keeps adding new parameters/settings as it finds something new to learning"
   ]
  },
  {
   "cell_type": "markdown",
   "metadata": {},
   "source": [
    "#### Workflow of Parametric Learning:\n",
    "\n",
    "1. Use some data to predict\n",
    "2. Compare the output prediction to the truth\n",
    "3. Adjust the weights/values for the parameters, to predict better next time on similar data"
   ]
  },
  {
   "cell_type": "markdown",
   "metadata": {},
   "source": [
    "#### Sample neural network"
   ]
  },
  {
   "cell_type": "code",
   "execution_count": 1,
   "metadata": {},
   "outputs": [],
   "source": [
    "def neural_network(input, weight):\n",
    "    prediction = input * weight\n",
    "    return prediction"
   ]
  },
  {
   "cell_type": "markdown",
   "metadata": {},
   "source": [
    "#### Multiple inputs and weights"
   ]
  },
  {
   "cell_type": "code",
   "execution_count": 4,
   "metadata": {},
   "outputs": [
    {
     "data": {
      "text/plain": [
       "0.9700000000000001"
      ]
     },
     "execution_count": 4,
     "metadata": {},
     "output_type": "execute_result"
    }
   ],
   "source": [
    "def neural_network_2(input, weights):\n",
    "    prediction = w_sum(input, weights)\n",
    "    return prediction\n",
    "\n",
    "def w_sum(a, b):\n",
    "    assert len(a) == len(b)\n",
    "    output = 0\n",
    "    for i in range(len(a)):\n",
    "        output += a[i] * b[i]\n",
    "\n",
    "    return output\n",
    "\n",
    "weights = [0.1, 0.2, 0]\n",
    "inputs = [8.5, 0.6, 1.2]\n",
    "\n",
    "pred = neural_network_2(inputs, weights)\n",
    "pred"
   ]
  },
  {
   "cell_type": "markdown",
   "metadata": {},
   "source": [
    "#### Multiple outputs and weights"
   ]
  },
  {
   "cell_type": "code",
   "execution_count": 3,
   "metadata": {},
   "outputs": [
    {
     "data": {
      "text/plain": [
       "[0.195, 0.13, 0.5850000000000001]"
      ]
     },
     "execution_count": 3,
     "metadata": {},
     "output_type": "execute_result"
    }
   ],
   "source": [
    "def neural_network_3(input, weights):\n",
    "    pred = ele_mul(input, weights)\n",
    "    return pred\n",
    "\n",
    "def ele_mul(number, vector):\n",
    "    output = [0, 0, 0]\n",
    "    assert len(output) == len(vector)\n",
    "    for i in range(len(vector)):\n",
    "        output[i] = number * vector[i]\n",
    "\n",
    "    return output\n",
    "\n",
    "weights = [0.3, 0.2, 0.9]\n",
    "win_loss_records = [0.65, 0.8, 0.8, 0.9]\n",
    "input = win_loss_records[0]\n",
    "pred = neural_network_3(input, weights)\n",
    "pred"
   ]
  },
  {
   "cell_type": "markdown",
   "metadata": {},
   "source": [
    "#### Multiple inputs and outputs"
   ]
  },
  {
   "cell_type": "markdown",
   "metadata": {},
   "source": [
    "\n",
    "![](images\\img_1.png)"
   ]
  },
  {
   "cell_type": "code",
   "execution_count": 6,
   "metadata": {},
   "outputs": [
    {
     "data": {
      "text/plain": [
       "[0.555, 0.9800000000000001, 0.9650000000000001]"
      ]
     },
     "execution_count": 6,
     "metadata": {},
     "output_type": "execute_result"
    }
   ],
   "source": [
    "def neural_network_4(input, weights):\n",
    "    pred = vec_mat_mul(input, weights)\n",
    "    return pred\n",
    "\n",
    "def vec_mat_mul(vector, matrix):\n",
    "    output = [0] * len(vector)\n",
    "    for i in range(len(vector)):\n",
    "        output[i] = w_sum(vector, matrix[i])\n",
    "    \n",
    "    return output\n",
    "\n",
    "def w_sum(a, b):\n",
    "    assert(len(a) == len(b))\n",
    "    output = 0\n",
    "    for i in range(len(a)):\n",
    "        output += a[i] * b [i]\n",
    "    return output\n",
    "\n",
    "toes = [8.5, 9.5, 9.9, 9.0]\n",
    "wlrec = [0.65, 0.8, 0.8, 0.9]\n",
    "nfans = [1.2, 1.3, 0.5, 1.0]\n",
    "inputs = [toes[0], wlrec[0], nfans[0]]\n",
    "\n",
    "weights = [[0.1, 0.1, -0.3],[0.1, 0.2, 0.0], [0.0, 1.3, 0.1]]\n",
    "\n",
    "pred = neural_network_4(inputs, weights)\n",
    "pred"
   ]
  },
  {
   "cell_type": "markdown",
   "metadata": {},
   "source": [
    "#### Stacking predictions\n",
    "![](images/img_2.png)"
   ]
  },
  {
   "cell_type": "code",
   "execution_count": 7,
   "metadata": {},
   "outputs": [
    {
     "data": {
      "text/plain": [
       "[-0.18849999999999997, 0.21000000000000002, 0.5065]"
      ]
     },
     "execution_count": 7,
     "metadata": {},
     "output_type": "execute_result"
    }
   ],
   "source": [
    "def neural_network_4(input, weights):\n",
    "    pred = vec_mat_mul(input, weights[0])\n",
    "    pred = vec_mat_mul(pred, weights[1])\n",
    "\n",
    "    return pred\n",
    "\n",
    "def vec_mat_mul(vector, matrix):\n",
    "    output = [0] * len(vector)\n",
    "    for i in range(len(vector)):\n",
    "        output[i] = w_sum(vector, matrix[i])\n",
    "    \n",
    "    return output\n",
    "\n",
    "def w_sum(a, b):\n",
    "    assert(len(a) == len(b))\n",
    "    output = 0\n",
    "    for i in range(len(a)):\n",
    "        output += a[i] * b [i]\n",
    "    return output\n",
    "\n",
    "toes = [8.5, 9.5, 9.9, 9.0]\n",
    "wlrec = [0.65, 0.8, 0.8, 0.9]\n",
    "nfans = [1.2, 1.3, 0.5, 1.0]\n",
    "inputs = [toes[0], wlrec[0], nfans[0]]\n",
    "\n",
    "weights_1 = [[0.1, 1.2, -0.1],[-0.1, 0.1, 0.9], [0.1, 0.4, 0.1]]\n",
    "weights_2 = [[0.1, 0.1, -0.3],[0.1, 0.2, 0.0], [0.0, 1.3, 0.1]]\n",
    "weights = [weights_1, weights_2]\n",
    "\n",
    "pred = neural_network_4(inputs, weights)\n",
    "pred"
   ]
  }
 ],
 "metadata": {
  "kernelspec": {
   "display_name": "Python 3",
   "language": "python",
   "name": "python3"
  },
  "language_info": {
   "codemirror_mode": {
    "name": "ipython",
    "version": 3
   },
   "file_extension": ".py",
   "mimetype": "text/x-python",
   "name": "python",
   "nbconvert_exporter": "python",
   "pygments_lexer": "ipython3",
   "version": "3.8.0"
  }
 },
 "nbformat": 4,
 "nbformat_minor": 2
}
