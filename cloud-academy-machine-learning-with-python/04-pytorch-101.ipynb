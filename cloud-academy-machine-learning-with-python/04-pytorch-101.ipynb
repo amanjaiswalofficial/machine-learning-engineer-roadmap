{
 "cells": [
  {
   "cell_type": "code",
   "execution_count": 1,
   "metadata": {},
   "outputs": [
    {
     "ename": "ModuleNotFoundError",
     "evalue": "No module named 'torch'",
     "output_type": "error",
     "traceback": [
      "\u001b[0;31m---------------------------------------------------------------------------\u001b[0m",
      "\u001b[0;31mModuleNotFoundError\u001b[0m                       Traceback (most recent call last)",
      "Input \u001b[0;32mIn [1]\u001b[0m, in \u001b[0;36m<cell line: 1>\u001b[0;34m()\u001b[0m\n\u001b[0;32m----> 1\u001b[0m \u001b[38;5;28;01mimport\u001b[39;00m \u001b[38;5;21;01mtorch\u001b[39;00m\n",
      "\u001b[0;31mModuleNotFoundError\u001b[0m: No module named 'torch'"
     ]
    }
   ],
   "source": [
    "import torch"
   ]
  },
  {
   "cell_type": "code",
   "execution_count": null,
   "metadata": {},
   "outputs": [],
   "source": []
  },
  {
   "cell_type": "code",
   "execution_count": 6,
   "metadata": {},
   "outputs": [
    {
     "name": "stdout",
     "output_type": "stream",
     "text": [
      "tensor([[1, 2],\n",
      "        [3, 4]])\n",
      "torch.int64\n",
      "torch.LongTensor\n"
     ]
    }
   ],
   "source": [
    "data = [[1,2], [3,4]]\n",
    "data_tensor = torch.tensor(data)\n",
    "print(data_tensor)\n",
    "print(data_tensor.dtype)\n",
    "print(data_tensor.type())"
   ]
  },
  {
   "cell_type": "markdown",
   "metadata": {},
   "source": [
    "#### Creating tensors with zeroes and ones"
   ]
  },
  {
   "cell_type": "code",
   "execution_count": 10,
   "metadata": {},
   "outputs": [
    {
     "name": "stdout",
     "output_type": "stream",
     "text": [
      "tensor([[0., 0.],\n",
      "        [0., 0.]])\n",
      "tensor([[1., 1.],\n",
      "        [1., 1.]])\n"
     ]
    }
   ],
   "source": [
    "data_tensor_zero = torch.zeros(2,2)\n",
    "data_tensor_one = torch.ones(2,2)\n",
    "print(data_tensor_zero)\n",
    "print(data_tensor_one)"
   ]
  },
  {
   "cell_type": "markdown",
   "metadata": {},
   "source": [
    "#### Creating one tensor from another"
   ]
  },
  {
   "cell_type": "code",
   "execution_count": 15,
   "metadata": {},
   "outputs": [],
   "source": [
    "data_tensor_two = data_tensor.new_tensor([[2,2], [3,3]])\n",
    "data_tensor_two_with_property = data_tensor.new_tensor([[2,2], [3,3]], dtype=torch.int8)"
   ]
  },
  {
   "cell_type": "code",
   "execution_count": 16,
   "metadata": {},
   "outputs": [
    {
     "name": "stdout",
     "output_type": "stream",
     "text": [
      "tensor([[2, 2],\n",
      "        [3, 3]])\n",
      "tensor([[2, 2],\n",
      "        [3, 3]], dtype=torch.int8)\n"
     ]
    }
   ],
   "source": [
    "print(data_tensor_two)\n",
    "print(data_tensor_two_with_property)"
   ]
  },
  {
   "cell_type": "markdown",
   "metadata": {},
   "source": [
    "#### Other ways to create tensor"
   ]
  },
  {
   "cell_type": "code",
   "execution_count": 17,
   "metadata": {},
   "outputs": [
    {
     "name": "stdout",
     "output_type": "stream",
     "text": [
      "tensor([[0.5000, 0.2385, 0.9771],\n",
      "        [0.4859, 0.0641, 0.1801]])\n"
     ]
    }
   ],
   "source": [
    "shape = (2,3,)\n",
    "random_tensor = torch.rand(shape)\n",
    "print(random_tensor)"
   ]
  },
  {
   "cell_type": "markdown",
   "metadata": {},
   "source": [
    "#### Using Numpy Arrays to create tensors"
   ]
  },
  {
   "cell_type": "code",
   "execution_count": 2,
   "metadata": {},
   "outputs": [
    {
     "name": "stdout",
     "output_type": "stream",
     "text": [
      "tensor([[0.8643, 0.5823, 0.0108],\n",
      "        [0.2378, 0.1611, 0.0913]], dtype=torch.float64)\n",
      "tensor([[0.8643, 0.5823, 0.0108],\n",
      "        [0.2378, 0.1611, 0.0913]], dtype=torch.float64)\n"
     ]
    }
   ],
   "source": [
    "import numpy as np\n",
    "import torch\n",
    "numpy_data = np.random.rand(2,3)\n",
    "torch_numpy = torch.from_numpy(numpy_data)\n",
    "torch_numpy_direct = torch.tensor(numpy_data)\n",
    "print(torch_numpy)\n",
    "print(torch_numpy_direct)"
   ]
  },
  {
   "cell_type": "code",
   "execution_count": 4,
   "metadata": {},
   "outputs": [
    {
     "data": {
      "text/plain": "array([[0.86432935, 0.58229111, 0.01075149],\n       [0.23780171, 0.16109042, 0.09130701]])"
     },
     "execution_count": 4,
     "metadata": {},
     "output_type": "execute_result"
    }
   ],
   "source": [
    "# put the whole tensor onto CPU for further operations\n",
    "torch_numpy_direct.cpu().numpy()"
   ]
  },
  {
   "cell_type": "markdown",
   "metadata": {},
   "source": [
    "#### Operations between tensors"
   ]
  },
  {
   "cell_type": "code",
   "execution_count": 5,
   "metadata": {},
   "outputs": [],
   "source": [
    "numpy_rand_one = np.random.rand(2,3)\n",
    "numpy_rand_two = np.random.rand(2,3)\n",
    "torch_numpy_one = torch.tensor(numpy_rand_one)\n",
    "torch_numpy_two = torch.tensor(numpy_rand_two)"
   ]
  },
  {
   "cell_type": "code",
   "execution_count": 7,
   "metadata": {},
   "outputs": [],
   "source": [
    "torch_numpy_three = torch.cat([torch_numpy_one, torch_numpy_two])"
   ]
  },
  {
   "cell_type": "code",
   "execution_count": 11,
   "metadata": {},
   "outputs": [],
   "source": [
    "# Setting lower and upper bound for any data\n",
    "torch_numpy_four = torch_numpy_three.clip(0.3,0.7)"
   ]
  },
  {
   "cell_type": "code",
   "execution_count": 10,
   "metadata": {},
   "outputs": [
    {
     "data": {
      "text/plain": "tensor([[8.8886e-01, 1.5038e-04, 3.7474e-01],\n        [1.6722e-01, 1.0602e-01, 5.5797e-01],\n        [9.1181e-01, 7.8382e-01, 6.3626e-01],\n        [8.1478e-01, 6.0487e-01, 3.9719e-01]], dtype=torch.float64)"
     },
     "execution_count": 10,
     "metadata": {},
     "output_type": "execute_result"
    }
   ],
   "source": [
    "torch_numpy_three"
   ]
  },
  {
   "cell_type": "code",
   "execution_count": 13,
   "metadata": {},
   "outputs": [
    {
     "data": {
      "text/plain": "tensor([[6.2220e-01, 4.5113e-05, 1.4043e-01],\n        [5.0166e-02, 3.1806e-02, 3.1133e-01],\n        [6.3826e-01, 5.4867e-01, 4.0483e-01],\n        [5.7035e-01, 3.6587e-01, 1.5776e-01]], dtype=torch.float64)"
     },
     "execution_count": 13,
     "metadata": {},
     "output_type": "execute_result"
    }
   ],
   "source": [
    "# Multiplication\n",
    "torch_numpy_three.mul(torch_numpy_four)"
   ]
  },
  {
   "cell_type": "code",
   "execution_count": 15,
   "metadata": {},
   "outputs": [
    {
     "ename": "RuntimeError",
     "evalue": "mat1 and mat2 shapes cannot be multiplied (4x3 and 4x3)",
     "output_type": "error",
     "traceback": [
      "\u001b[0;31m---------------------------------------------------------------------------\u001b[0m",
      "\u001b[0;31mRuntimeError\u001b[0m                              Traceback (most recent call last)",
      "Input \u001b[0;32mIn [15]\u001b[0m, in \u001b[0;36m<cell line: 2>\u001b[0;34m()\u001b[0m\n\u001b[1;32m      1\u001b[0m \u001b[38;5;66;03m# Matrix Multiplication\u001b[39;00m\n\u001b[0;32m----> 2\u001b[0m \u001b[43mtorch_numpy_three\u001b[49m\u001b[38;5;241;43m.\u001b[39;49m\u001b[43mmatmul\u001b[49m\u001b[43m(\u001b[49m\u001b[43mtorch_numpy_four\u001b[49m\u001b[43m)\u001b[49m\n",
      "\u001b[0;31mRuntimeError\u001b[0m: mat1 and mat2 shapes cannot be multiplied (4x3 and 4x3)"
     ]
    }
   ],
   "source": [
    "# Matrix Multiplication\n",
    "torch_numpy_three.matmul(torch_numpy_four) # requires transpose"
   ]
  },
  {
   "cell_type": "code",
   "execution_count": 17,
   "metadata": {},
   "outputs": [
    {
     "data": {
      "text/plain": "tensor([[0.7627, 0.4758, 0.8607, 0.7711],\n        [0.3580, 0.3933, 0.5463, 0.4028],\n        [1.1118, 0.8637, 1.5918, 1.3651],\n        [0.9007, 0.6475, 1.2465, 1.0940]], dtype=torch.float64)"
     },
     "execution_count": 17,
     "metadata": {},
     "output_type": "execute_result"
    }
   ],
   "source": [
    "# .T does transpose\n",
    "torch_numpy_three.matmul(torch_numpy_four.T)"
   ]
  },
  {
   "cell_type": "code",
   "execution_count": 20,
   "metadata": {},
   "outputs": [
    {
     "name": "stdout",
     "output_type": "stream",
     "text": [
      "tensor(6.2710, dtype=torch.float64)\n",
      "6.271030869285244\n"
     ]
    }
   ],
   "source": [
    "# sum of matrix values\n",
    "sum_in_tensor = torch_numpy_four.sum()\n",
    "sum_in_python = sum_in_tensor.item()\n",
    "print(sum_in_tensor)\n",
    "print(sum_in_python)"
   ]
  },
  {
   "cell_type": "code",
   "execution_count": 22,
   "metadata": {},
   "outputs": [
    {
     "data": {
      "text/plain": "tensor([[ 0,  1,  2,  3],\n        [ 4,  5,  6,  7],\n        [ 8,  9, 10, 11],\n        [12, 13, 14, 15],\n        [16, 17, 18, 19]])"
     },
     "execution_count": 22,
     "metadata": {},
     "output_type": "execute_result"
    }
   ],
   "source": [
    "data_tensor_five = torch.arange(20).reshape(5,4)\n",
    "data_tensor_five"
   ]
  },
  {
   "cell_type": "code",
   "execution_count": 25,
   "metadata": {},
   "outputs": [
    {
     "ename": "RuntimeError",
     "evalue": "mean(): could not infer output dtype. Input dtype must be either a floating point or complex dtype. Got: Long",
     "output_type": "error",
     "traceback": [
      "\u001b[0;31m---------------------------------------------------------------------------\u001b[0m",
      "\u001b[0;31mRuntimeError\u001b[0m                              Traceback (most recent call last)",
      "Input \u001b[0;32mIn [25]\u001b[0m, in \u001b[0;36m<cell line: 2>\u001b[0;34m()\u001b[0m\n\u001b[1;32m      1\u001b[0m \u001b[38;5;66;03m# such operations require values to be in float\u001b[39;00m\n\u001b[0;32m----> 2\u001b[0m \u001b[43mdata_tensor_five\u001b[49m\u001b[38;5;241;43m.\u001b[39;49m\u001b[43mmean\u001b[49m\u001b[43m(\u001b[49m\u001b[43m)\u001b[49m\n",
      "\u001b[0;31mRuntimeError\u001b[0m: mean(): could not infer output dtype. Input dtype must be either a floating point or complex dtype. Got: Long"
     ]
    }
   ],
   "source": [
    "# such operations require values to be in float\n",
    "data_tensor_five.mean()"
   ]
  },
  {
   "cell_type": "code",
   "execution_count": 29,
   "metadata": {},
   "outputs": [
    {
     "name": "stdout",
     "output_type": "stream",
     "text": [
      "tensor([[ 0.,  1.,  2.,  3.],\n",
      "        [ 4.,  5.,  6.,  7.],\n",
      "        [ 8.,  9., 10., 11.],\n",
      "        [12., 13., 14., 15.],\n",
      "        [16., 17., 18., 19.]])\n",
      "tensor(9.5000)\n",
      "tensor([ 8.,  9., 10., 11.])\n",
      "tensor([40., 45., 50., 55.])\n"
     ]
    }
   ],
   "source": [
    "data_tensor_six = torch.arange(20, dtype=torch.float32).reshape(5,4)\n",
    "print(data_tensor_six)\n",
    "print(data_tensor_six.mean())\n",
    "print(data_tensor_six.mean(dim=0))\n",
    "print(data_tensor_six.sum(axis=0))"
   ]
  },
  {
   "cell_type": "markdown",
   "metadata": {},
   "source": [
    "#### Autograd in Pytorch / Forward Propogation and Backpropogation\n",
    "In FP > We compute the loss based on the input\n",
    "\n",
    "In BP > We compute the gradient of the cost function w.r.t to the input"
   ]
  },
  {
   "cell_type": "code",
   "execution_count": 38,
   "metadata": {},
   "outputs": [
    {
     "data": {
      "text/plain": "tensor([-3.4760, -1.6876, -3.8551, -4.9936, -4.9991])"
     },
     "execution_count": 38,
     "metadata": {},
     "output_type": "execute_result"
    }
   ],
   "source": [
    "data_one = torch.tensor([-1.2345, 1.82, -1.07, 0.08, -0.03])\n",
    "loss = data_one**2 -5\n",
    "loss"
   ]
  },
  {
   "cell_type": "code",
   "execution_count": 48,
   "metadata": {},
   "outputs": [
    {
     "data": {
      "text/plain": "tensor([-3.4760, -1.6876, -3.8551, -4.9936, -4.9991], grad_fn=<SubBackward0>)"
     },
     "execution_count": 48,
     "metadata": {},
     "output_type": "execute_result"
    }
   ],
   "source": [
    "# here a gradient function is also included\n",
    "data_two = torch.tensor([-1.2345, 1.82, -1.07, 0.08, -0.03], requires_grad=True)\n",
    "loss = data_two**2 -5\n",
    "loss"
   ]
  },
  {
   "cell_type": "code",
   "execution_count": 51,
   "metadata": {},
   "outputs": [
    {
     "name": "stdout",
     "output_type": "stream",
     "text": [
      "Gradient is: None\n"
     ]
    }
   ],
   "source": [
    "print(f\"Gradient is: {data_two.grad}\")"
   ]
  },
  {
   "cell_type": "code",
   "execution_count": 52,
   "metadata": {},
   "outputs": [
    {
     "data": {
      "text/plain": "<SubBackward0 at 0x10ef462e0>"
     },
     "execution_count": 52,
     "metadata": {},
     "output_type": "execute_result"
    }
   ],
   "source": [
    "# accessing the gradient function\n",
    "loss.grad_fn"
   ]
  },
  {
   "cell_type": "code",
   "execution_count": 53,
   "metadata": {},
   "outputs": [],
   "source": [
    "# calculating the gradient using backward propogation?\n",
    "loss.backward(gradient=torch.ones(5))"
   ]
  },
  {
   "cell_type": "code",
   "execution_count": 55,
   "metadata": {},
   "outputs": [
    {
     "data": {
      "text/plain": "tensor([-2.4690,  3.6400, -2.1400,  0.1600, -0.0600])"
     },
     "execution_count": 55,
     "metadata": {},
     "output_type": "execute_result"
    }
   ],
   "source": [
    "data_two.grad"
   ]
  },
  {
   "cell_type": "code",
   "execution_count": 58,
   "metadata": {},
   "outputs": [
    {
     "name": "stdout",
     "output_type": "stream",
     "text": [
      "tracked: True, not_tracked: False\n"
     ]
    }
   ],
   "source": [
    "# Usually pytorch keeps track of gradients with the DAG, to stop it, it should be explicitly mentioned\n",
    "data_three_with_tracked_gradients = torch.rand(2,2, requires_grad=True)\n",
    "data_four_with_not_tracked_gradients = torch.rand(2,2, requires_grad=False)\n",
    "print(f\"tracked: {data_three_with_tracked_gradients.requires_grad}, \\\n",
    "not_tracked: {data_four_with_not_tracked_gradients.requires_grad}\")\n"
   ]
  },
  {
   "cell_type": "code",
   "execution_count": 59,
   "metadata": {},
   "outputs": [
    {
     "data": {
      "text/plain": "False"
     },
     "execution_count": 59,
     "metadata": {},
     "output_type": "execute_result"
    }
   ],
   "source": [
    "# Another way to do the same\n",
    "data_five_with_not_tracked_gradients = data_three_with_tracked_gradients.detach()\n",
    "data_five_with_not_tracked_gradients.requires_grad"
   ]
  },
  {
   "cell_type": "code",
   "execution_count": 63,
   "metadata": {},
   "outputs": [
    {
     "name": "stdout",
     "output_type": "stream",
     "text": [
      "False\n"
     ]
    }
   ],
   "source": [
    "# Another way to do the same\n",
    "data_six_with_tracked_gradients = torch.rand(2,2, requires_grad=True)\n",
    "with torch.no_grad():\n",
    "    loss = data_six_with_tracked_gradients**2\n",
    "    print(loss.requires_grad)"
   ]
  }
 ],
 "metadata": {
  "kernelspec": {
   "display_name": "Python 3.8.9 64-bit",
   "name": "python389jvsc74a57bd0fafb746076eaa6f4a9c35dd52bd375d0d02af7c1d2f963d3faba917059a1fee8"
  },
  "language_info": {
   "codemirror_mode": {
    "name": "ipython",
    "version": 3
   },
   "file_extension": ".py",
   "mimetype": "text/x-python",
   "name": "python",
   "nbconvert_exporter": "python",
   "pygments_lexer": "ipython3",
   "version": "3.8.9"
  },
  "metadata": {
   "interpreter": {
    "hash": "fafb746076eaa6f4a9c35dd52bd375d0d02af7c1d2f963d3faba917059a1fee8"
   }
  },
  "orig_nbformat": 2
 },
 "nbformat": 4,
 "nbformat_minor": 2
}