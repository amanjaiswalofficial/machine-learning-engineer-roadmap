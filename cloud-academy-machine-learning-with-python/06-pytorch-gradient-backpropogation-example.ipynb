{
 "cells": [
  {
   "cell_type": "code",
   "execution_count": 2,
   "metadata": {},
   "outputs": [],
   "source": [
    "import torch"
   ]
  },
  {
   "cell_type": "markdown",
   "metadata": {},
   "source": [
    "#### What is local gradient\n",
    "Local gradient are the partial derivatives, performed on the computational graph operation"
   ]
  },
  {
   "cell_type": "code",
   "execution_count": 21,
   "metadata": {},
   "outputs": [],
   "source": [
    "x = torch.tensor(1.0)\n",
    "y = torch.tensor(2.0)\n",
    "w = torch.tensor(1.0, requires_grad=True)"
   ]
  },
  {
   "cell_type": "code",
   "execution_count": 22,
   "metadata": {},
   "outputs": [
    {
     "name": "stdout",
     "output_type": "stream",
     "text": [
      "Forward step: 1.0\n"
     ]
    }
   ],
   "source": [
    "y_cap = w * x\n",
    "loss = (y_cap - y) ** 2\n",
    "print(f\"Forward step: {loss}\")"
   ]
  },
  {
   "cell_type": "code",
   "execution_count": 23,
   "metadata": {},
   "outputs": [
    {
     "name": "stdout",
     "output_type": "stream",
     "text": [
      "Backward step: -2.0\n"
     ]
    }
   ],
   "source": [
    "loss.backward()\n",
    "print(f\"Backward step: {w.grad}\")"
   ]
  },
  {
   "cell_type": "code",
   "execution_count": 25,
   "metadata": {},
   "outputs": [
    {
     "name": "stdout",
     "output_type": "stream",
     "text": [
      "tensor(1.0400, requires_grad=True)\n",
      "tensor(-2.)\n"
     ]
    }
   ],
   "source": [
    "# several cyles of forward and backward propogation to finish tuning\n",
    "with torch.no_grad():\n",
    "    w -= 0.01 * w.grad\n",
    "    print(w)\n",
    "print(w.grad)"
   ]
  }
 ],
 "metadata": {
  "kernelspec": {
   "display_name": "Python 3.8.9 64-bit ('venv': venv)",
   "name": "python389jvsc74a57bd05cad6cd3d86942cdcdfc39b09df885b33a668b3b830d84b904c953b69e79e5bc"
  },
  "language_info": {
   "codemirror_mode": {
    "name": "ipython",
    "version": 3
   },
   "file_extension": ".py",
   "mimetype": "text/x-python",
   "name": "python",
   "nbconvert_exporter": "python",
   "pygments_lexer": "ipython3",
   "version": "3.8.9"
  },
  "orig_nbformat": 2
 },
 "nbformat": 4,
 "nbformat_minor": 2
}