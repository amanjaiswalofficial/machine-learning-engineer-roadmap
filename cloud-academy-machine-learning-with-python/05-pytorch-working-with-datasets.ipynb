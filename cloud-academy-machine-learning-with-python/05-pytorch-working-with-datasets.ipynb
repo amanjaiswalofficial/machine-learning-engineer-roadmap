{
 "cells": [
  {
   "cell_type": "code",
   "execution_count": 2,
   "metadata": {},
   "outputs": [],
   "source": [
    "import torch"
   ]
  },
  {
   "cell_type": "code",
   "execution_count": 11,
   "metadata": {},
   "outputs": [],
   "source": [
    "from torch.utils.data import Dataset\n",
    "\n",
    "class CustomDataSet(Dataset):\n",
    "    def __init__(self, X, y) -> None:\n",
    "        self.X = X\n",
    "        self.y = y\n",
    "\n",
    "    def __len__(self):\n",
    "        return len(self.X)\n",
    "\n",
    "    def __getitem__(self, idx):\n",
    "        return (self.X[idx], self.y[idx])\n",
    "\n"
   ]
  },
  {
   "cell_type": "code",
   "execution_count": 4,
   "metadata": {},
   "outputs": [],
   "source": [
    "from sklearn.datasets import make_classification"
   ]
  },
  {
   "cell_type": "code",
   "execution_count": 12,
   "metadata": {},
   "outputs": [],
   "source": [
    "features, target = make_classification(n_samples=1000, n_features=5)"
   ]
  },
  {
   "cell_type": "code",
   "execution_count": 24,
   "metadata": {},
   "outputs": [
    {
     "name": "stdout",
     "output_type": "stream",
     "text": [
      "1000\n",
      "\n",
      "(array([ 1.64845184,  0.02539267,  0.78272728, -0.29046241,  0.58206715]), 1) and \n",
      "[ 1.64845184  0.02539267  0.78272728 -0.29046241  0.58206715] are same\n"
     ]
    }
   ],
   "source": [
    "custom_dataset = CustomDataSet(X=features, y=target)\n",
    "print(len(custom_dataset))\n",
    "print(f\"\\n{custom_dataset[0]} and \\n{features[0]} are same\")"
   ]
  },
  {
   "cell_type": "markdown",
   "metadata": {},
   "source": [
    "#### Doing the same for multilabel classification"
   ]
  },
  {
   "cell_type": "code",
   "execution_count": 26,
   "metadata": {},
   "outputs": [],
   "source": [
    "from sklearn.datasets import make_multilabel_classification\n",
    "features, target = make_multilabel_classification(n_samples=1000, n_features=5, n_classes=3)"
   ]
  },
  {
   "cell_type": "code",
   "execution_count": 27,
   "metadata": {},
   "outputs": [
    {
     "name": "stdout",
     "output_type": "stream",
     "text": [
      "(array([9., 7., 5., 6., 8.]), array([1, 0, 0]))\n"
     ]
    }
   ],
   "source": [
    "custom_dataset_mlb = CustomDataSet(X=features, y=target)\n",
    "print(custom_dataset_mlb[0])\n"
   ]
  },
  {
   "cell_type": "markdown",
   "metadata": {},
   "source": [
    "#### Using DataLoader to load data"
   ]
  },
  {
   "cell_type": "code",
   "execution_count": 28,
   "metadata": {},
   "outputs": [],
   "source": [
    "from torch.utils.data import DataLoader"
   ]
  },
  {
   "cell_type": "code",
   "execution_count": 32,
   "metadata": {},
   "outputs": [],
   "source": [
    "# instead of directly accessing and using the dataset values, dataloader is a faster and efficient way to do the same\n",
    "data_loader = DataLoader(dataset=custom_dataset, batch_size=8, shuffle=True)"
   ]
  },
  {
   "cell_type": "code",
   "execution_count": 33,
   "metadata": {},
   "outputs": [],
   "source": [
    "# using iter to access values later\n",
    "data_iter = iter(data_loader)"
   ]
  },
  {
   "cell_type": "code",
   "execution_count": 34,
   "metadata": {},
   "outputs": [],
   "source": [
    "data_02 = data_iter.next()"
   ]
  },
  {
   "cell_type": "code",
   "execution_count": 35,
   "metadata": {},
   "outputs": [
    {
     "data": {
      "text/plain": "[tensor([[-0.8684, -0.3093, -0.2281,  0.3775, -0.9590],\n         [-1.0419, -1.0336, -0.9164, -0.3302,  1.1253],\n         [-0.7776, -0.4844, -0.1811,  0.3663, -0.9409],\n         [ 1.5432,  1.4438,  0.7331, -0.2714,  0.5435],\n         [-0.3668, -0.2897, -0.0081,  0.2670, -0.7177],\n         [ 0.9234, -0.7116,  0.7946,  0.2713, -0.9351],\n         [ 0.7811,  0.3991,  0.1089, -0.4568,  1.2034],\n         [-1.3813,  0.2018, -1.4095, -0.6748,  2.1808]], dtype=torch.float64),\n tensor([0, 0, 0, 1, 0, 1, 1, 0])]"
     },
     "execution_count": 35,
     "metadata": {},
     "output_type": "execute_result"
    }
   ],
   "source": [
    "data_02"
   ]
  },
  {
   "cell_type": "code",
   "execution_count": 37,
   "metadata": {},
   "outputs": [],
   "source": [
    "features_02, target_02 = data_02"
   ]
  },
  {
   "cell_type": "code",
   "execution_count": 38,
   "metadata": {},
   "outputs": [
    {
     "name": "stdout",
     "output_type": "stream",
     "text": [
      "tensor([[-0.8684, -0.3093, -0.2281,  0.3775, -0.9590],\n",
      "        [-1.0419, -1.0336, -0.9164, -0.3302,  1.1253],\n",
      "        [-0.7776, -0.4844, -0.1811,  0.3663, -0.9409],\n",
      "        [ 1.5432,  1.4438,  0.7331, -0.2714,  0.5435],\n",
      "        [-0.3668, -0.2897, -0.0081,  0.2670, -0.7177],\n",
      "        [ 0.9234, -0.7116,  0.7946,  0.2713, -0.9351],\n",
      "        [ 0.7811,  0.3991,  0.1089, -0.4568,  1.2034],\n",
      "        [-1.3813,  0.2018, -1.4095, -0.6748,  2.1808]], dtype=torch.float64)\n"
     ]
    }
   ],
   "source": [
    "print(features_02)"
   ]
  },
  {
   "cell_type": "code",
   "execution_count": 39,
   "metadata": {},
   "outputs": [
    {
     "name": "stdout",
     "output_type": "stream",
     "text": [
      "tensor([0, 0, 0, 1, 0, 1, 1, 0])\n"
     ]
    }
   ],
   "source": [
    "print(target_02)"
   ]
  }
 ],
 "metadata": {
  "kernelspec": {
   "display_name": "Python 3.8.9 64-bit ('venv': venv)",
   "name": "venv"
  },
  "language_info": {
   "codemirror_mode": {
    "name": "ipython",
    "version": 3
   },
   "file_extension": ".py",
   "mimetype": "text/x-python",
   "name": "python",
   "nbconvert_exporter": "python",
   "pygments_lexer": "ipython3",
   "version": "3.8.9"
  },
  "orig_nbformat": 2
 },
 "nbformat": 4,
 "nbformat_minor": 2
}